{
 "cells": [
  {
   "cell_type": "code",
   "execution_count": 42,
   "metadata": {},
   "outputs": [],
   "source": [
    "import pandas as pd\n",
    "import numpy as np\n",
    "import seaborn as sns\n",
    "import matplotlib.pyplot as plt\n",
    "import json\n",
    "\n",
    "\n"
   ]
  },
  {
   "cell_type": "code",
   "execution_count": 43,
   "metadata": {},
   "outputs": [],
   "source": [
    "df = pd.read_csv(r'C:\\Users\\Vipul\\Property-Click-Prediction\\notebook\\datasets\\property_data_set.csv',parse_dates = ['activation_date'], dayfirst=True)\n",
    "\n",
    "df1 = pd.read_csv(r\"C:\\Users\\Vipul\\Property-Click-Prediction\\notebook\\datasets\\property_interactions.csv\",parse_dates = ['request_date'] , dayfirst=True)\n",
    "\n",
    "df2 = pd.read_table(r\"C:\\Users\\Vipul\\Property-Click-Prediction\\notebook\\datasets\\property_photos.tsv\")"
   ]
  },
  {
   "cell_type": "code",
   "execution_count": 44,
   "metadata": {},
   "outputs": [],
   "source": [
    "pd.set_option('display.max_columns', 50)\n",
    "pd.set_option('display.max_rows', 10)"
   ]
  },
  {
   "cell_type": "code",
   "execution_count": 45,
   "metadata": {},
   "outputs": [
    {
     "data": {
      "text/html": [
       "<div>\n",
       "<style scoped>\n",
       "    .dataframe tbody tr th:only-of-type {\n",
       "        vertical-align: middle;\n",
       "    }\n",
       "\n",
       "    .dataframe tbody tr th {\n",
       "        vertical-align: top;\n",
       "    }\n",
       "\n",
       "    .dataframe thead th {\n",
       "        text-align: right;\n",
       "    }\n",
       "</style>\n",
       "<table border=\"1\" class=\"dataframe\">\n",
       "  <thead>\n",
       "    <tr style=\"text-align: right;\">\n",
       "      <th></th>\n",
       "      <th>property_id</th>\n",
       "      <th>type</th>\n",
       "      <th>activation_date</th>\n",
       "      <th>bathroom</th>\n",
       "      <th>floor</th>\n",
       "      <th>total_floor</th>\n",
       "      <th>furnishing</th>\n",
       "      <th>gym</th>\n",
       "      <th>latitude</th>\n",
       "      <th>longitude</th>\n",
       "      <th>lease_type</th>\n",
       "      <th>lift</th>\n",
       "      <th>locality</th>\n",
       "      <th>parking</th>\n",
       "      <th>property_age</th>\n",
       "      <th>property_size</th>\n",
       "      <th>swimming_pool</th>\n",
       "      <th>pin_code</th>\n",
       "      <th>rent</th>\n",
       "      <th>deposit</th>\n",
       "      <th>building_type</th>\n",
       "    </tr>\n",
       "  </thead>\n",
       "  <tbody>\n",
       "    <tr>\n",
       "      <th>18311</th>\n",
       "      <td>ff8081815a833856015a8365ff83167b</td>\n",
       "      <td>BHK1</td>\n",
       "      <td>2017-02-28 12:45:00</td>\n",
       "      <td>1</td>\n",
       "      <td>0</td>\n",
       "      <td>2.0</td>\n",
       "      <td>SEMI_FURNISHED</td>\n",
       "      <td>0</td>\n",
       "      <td>12.919365</td>\n",
       "      <td>77.541982</td>\n",
       "      <td>ANYONE</td>\n",
       "      <td>0</td>\n",
       "      <td>Ittamadu</td>\n",
       "      <td>TWO_WHEELER</td>\n",
       "      <td>1</td>\n",
       "      <td>350</td>\n",
       "      <td>0</td>\n",
       "      <td>560085.0</td>\n",
       "      <td>5500</td>\n",
       "      <td>40000</td>\n",
       "      <td>IF</td>\n",
       "    </tr>\n",
       "    <tr>\n",
       "      <th>6994</th>\n",
       "      <td>ff808181588627250158868455b21498</td>\n",
       "      <td>BHK1</td>\n",
       "      <td>2017-03-08 11:55:00</td>\n",
       "      <td>1</td>\n",
       "      <td>1</td>\n",
       "      <td>1.0</td>\n",
       "      <td>SEMI_FURNISHED</td>\n",
       "      <td>0</td>\n",
       "      <td>12.867876</td>\n",
       "      <td>77.568272</td>\n",
       "      <td>ANYONE</td>\n",
       "      <td>0</td>\n",
       "      <td>JP Nagar</td>\n",
       "      <td>TWO_WHEELER</td>\n",
       "      <td>0</td>\n",
       "      <td>500</td>\n",
       "      <td>0</td>\n",
       "      <td>560062.0</td>\n",
       "      <td>6500</td>\n",
       "      <td>65000</td>\n",
       "      <td>IF</td>\n",
       "    </tr>\n",
       "  </tbody>\n",
       "</table>\n",
       "</div>"
      ],
      "text/plain": [
       "                            property_id  type     activation_date  bathroom  \\\n",
       "18311  ff8081815a833856015a8365ff83167b  BHK1 2017-02-28 12:45:00         1   \n",
       "6994   ff808181588627250158868455b21498  BHK1 2017-03-08 11:55:00         1   \n",
       "\n",
       "       floor  total_floor      furnishing  gym   latitude  longitude  \\\n",
       "18311      0          2.0  SEMI_FURNISHED    0  12.919365  77.541982   \n",
       "6994       1          1.0  SEMI_FURNISHED    0  12.867876  77.568272   \n",
       "\n",
       "      lease_type  lift  locality      parking  property_age  property_size  \\\n",
       "18311     ANYONE     0  Ittamadu  TWO_WHEELER             1            350   \n",
       "6994      ANYONE     0  JP Nagar  TWO_WHEELER             0            500   \n",
       "\n",
       "       swimming_pool  pin_code  rent  deposit building_type  \n",
       "18311              0  560085.0  5500    40000            IF  \n",
       "6994               0  560062.0  6500    65000            IF  "
      ]
     },
     "execution_count": 45,
     "metadata": {},
     "output_type": "execute_result"
    }
   ],
   "source": [
    "df.sample(2)"
   ]
  },
  {
   "cell_type": "code",
   "execution_count": 46,
   "metadata": {},
   "outputs": [
    {
     "name": "stdout",
     "output_type": "stream",
     "text": [
      "Property data Shape (28888, 21)\n",
      "Pics data Shape (170611, 2)\n",
      "Interaction data Shape (28888, 2)\n"
     ]
    }
   ],
   "source": [
    "print('Property data Shape', df.shape)\n",
    "print('Pics data Shape',df1.shape)\n",
    "print('Interaction data Shape',df2.shape)"
   ]
  },
  {
   "cell_type": "code",
   "execution_count": 47,
   "metadata": {},
   "outputs": [
    {
     "data": {
      "text/html": [
       "<div>\n",
       "<style scoped>\n",
       "    .dataframe tbody tr th:only-of-type {\n",
       "        vertical-align: middle;\n",
       "    }\n",
       "\n",
       "    .dataframe tbody tr th {\n",
       "        vertical-align: top;\n",
       "    }\n",
       "\n",
       "    .dataframe thead th {\n",
       "        text-align: right;\n",
       "    }\n",
       "</style>\n",
       "<table border=\"1\" class=\"dataframe\">\n",
       "  <thead>\n",
       "    <tr style=\"text-align: right;\">\n",
       "      <th></th>\n",
       "      <th>property_id</th>\n",
       "      <th>request_date</th>\n",
       "    </tr>\n",
       "  </thead>\n",
       "  <tbody>\n",
       "    <tr>\n",
       "      <th>133815</th>\n",
       "      <td>ff8081815aae6093015aaeaf7017132c</td>\n",
       "      <td>2017-03-10 16:40:08</td>\n",
       "    </tr>\n",
       "    <tr>\n",
       "      <th>84554</th>\n",
       "      <td>ff8081815a30d446015a35d18c4233e6</td>\n",
       "      <td>2017-02-14 19:17:01</td>\n",
       "    </tr>\n",
       "    <tr>\n",
       "      <th>5131</th>\n",
       "      <td>ff8081814db00698014db411818c1667</td>\n",
       "      <td>2017-03-26 15:26:02</td>\n",
       "    </tr>\n",
       "  </tbody>\n",
       "</table>\n",
       "</div>"
      ],
      "text/plain": [
       "                             property_id         request_date\n",
       "133815  ff8081815aae6093015aaeaf7017132c  2017-03-10 16:40:08\n",
       "84554   ff8081815a30d446015a35d18c4233e6  2017-02-14 19:17:01\n",
       "5131    ff8081814db00698014db411818c1667  2017-03-26 15:26:02"
      ]
     },
     "execution_count": 47,
     "metadata": {},
     "output_type": "execute_result"
    }
   ],
   "source": [
    "df1.sample(3)"
   ]
  },
  {
   "cell_type": "code",
   "execution_count": 48,
   "metadata": {},
   "outputs": [
    {
     "data": {
      "text/html": [
       "<div>\n",
       "<style scoped>\n",
       "    .dataframe tbody tr th:only-of-type {\n",
       "        vertical-align: middle;\n",
       "    }\n",
       "\n",
       "    .dataframe tbody tr th {\n",
       "        vertical-align: top;\n",
       "    }\n",
       "\n",
       "    .dataframe thead th {\n",
       "        text-align: right;\n",
       "    }\n",
       "</style>\n",
       "<table border=\"1\" class=\"dataframe\">\n",
       "  <thead>\n",
       "    <tr style=\"text-align: right;\">\n",
       "      <th></th>\n",
       "      <th>property_id</th>\n",
       "      <th>photo_urls</th>\n",
       "    </tr>\n",
       "  </thead>\n",
       "  <tbody>\n",
       "    <tr>\n",
       "      <th>22178</th>\n",
       "      <td>ff8081815ab73de0015ab7860e8e0d1f</td>\n",
       "      <td>[{\\title\\\":\\\"\\\",\\\"name\\\":\\\"files[]\\\",\\\"imagesM...</td>\n",
       "    </tr>\n",
       "    <tr>\n",
       "      <th>20782</th>\n",
       "      <td>ff8081815aa4011f015aa71702ea781c</td>\n",
       "      <td>[{\\title\\\":\\\"\\\",\\\"name\\\":\\\"files[]\\\",\\\"imagesM...</td>\n",
       "    </tr>\n",
       "  </tbody>\n",
       "</table>\n",
       "</div>"
      ],
      "text/plain": [
       "                            property_id  \\\n",
       "22178  ff8081815ab73de0015ab7860e8e0d1f   \n",
       "20782  ff8081815aa4011f015aa71702ea781c   \n",
       "\n",
       "                                              photo_urls  \n",
       "22178  [{\\title\\\":\\\"\\\",\\\"name\\\":\\\"files[]\\\",\\\"imagesM...  \n",
       "20782  [{\\title\\\":\\\"\\\",\\\"name\\\":\\\"files[]\\\",\\\"imagesM...  "
      ]
     },
     "execution_count": 48,
     "metadata": {},
     "output_type": "execute_result"
    }
   ],
   "source": [
    "df2.sample(2)"
   ]
  },
  {
   "cell_type": "markdown",
   "metadata": {},
   "source": [
    "# HANDLING PICS DATASET"
   ]
  },
  {
   "cell_type": "code",
   "execution_count": 49,
   "metadata": {},
   "outputs": [
    {
     "data": {
      "text/html": [
       "<div>\n",
       "<style scoped>\n",
       "    .dataframe tbody tr th:only-of-type {\n",
       "        vertical-align: middle;\n",
       "    }\n",
       "\n",
       "    .dataframe tbody tr th {\n",
       "        vertical-align: top;\n",
       "    }\n",
       "\n",
       "    .dataframe thead th {\n",
       "        text-align: right;\n",
       "    }\n",
       "</style>\n",
       "<table border=\"1\" class=\"dataframe\">\n",
       "  <thead>\n",
       "    <tr style=\"text-align: right;\">\n",
       "      <th></th>\n",
       "      <th>property_id</th>\n",
       "      <th>photo_urls</th>\n",
       "    </tr>\n",
       "  </thead>\n",
       "  <tbody>\n",
       "    <tr>\n",
       "      <th>0</th>\n",
       "      <td>ff808081469fd6e20146a5af948000ea</td>\n",
       "      <td>[{\\title\\\":\\\"Balcony\\\",\\\"name\\\":\\\"IMG_20131006...</td>\n",
       "    </tr>\n",
       "    <tr>\n",
       "      <th>1</th>\n",
       "      <td>ff8080814702d3d10147068359d200cd</td>\n",
       "      <td>NaN</td>\n",
       "    </tr>\n",
       "    <tr>\n",
       "      <th>2</th>\n",
       "      <td>ff808081470c645401470fb03f5800a6</td>\n",
       "      <td>[{\\title\\\":\\\"Bedroom\\\",\\\"name\\\":\\\"ff808081470c...</td>\n",
       "    </tr>\n",
       "    <tr>\n",
       "      <th>3</th>\n",
       "      <td>ff808081470c6454014715eaa5960281</td>\n",
       "      <td>[{\\title\\\":\\\"Bedroom\\\",\\\"name\\\":\\\"Screenshot_7...</td>\n",
       "    </tr>\n",
       "    <tr>\n",
       "      <th>4</th>\n",
       "      <td>ff808081474aa867014771a0298f0aa6</td>\n",
       "      <td>[{\\title\\\":\\\"Other\\\",\\\"name\\\":\\\"ff808081474aa8...</td>\n",
       "    </tr>\n",
       "  </tbody>\n",
       "</table>\n",
       "</div>"
      ],
      "text/plain": [
       "                        property_id  \\\n",
       "0  ff808081469fd6e20146a5af948000ea   \n",
       "1  ff8080814702d3d10147068359d200cd   \n",
       "2  ff808081470c645401470fb03f5800a6   \n",
       "3  ff808081470c6454014715eaa5960281   \n",
       "4  ff808081474aa867014771a0298f0aa6   \n",
       "\n",
       "                                          photo_urls  \n",
       "0  [{\\title\\\":\\\"Balcony\\\",\\\"name\\\":\\\"IMG_20131006...  \n",
       "1                                                NaN  \n",
       "2  [{\\title\\\":\\\"Bedroom\\\",\\\"name\\\":\\\"ff808081470c...  \n",
       "3  [{\\title\\\":\\\"Bedroom\\\",\\\"name\\\":\\\"Screenshot_7...  \n",
       "4  [{\\title\\\":\\\"Other\\\",\\\"name\\\":\\\"ff808081474aa8...  "
      ]
     },
     "execution_count": 49,
     "metadata": {},
     "output_type": "execute_result"
    }
   ],
   "source": [
    "df2.head(5)"
   ]
  },
  {
   "cell_type": "code",
   "execution_count": 50,
   "metadata": {},
   "outputs": [
    {
     "data": {
      "text/plain": [
       "(28888, 2)"
      ]
     },
     "execution_count": 50,
     "metadata": {},
     "output_type": "execute_result"
    }
   ],
   "source": [
    "df2.shape"
   ]
  },
  {
   "cell_type": "code",
   "execution_count": 51,
   "metadata": {},
   "outputs": [
    {
     "data": {
      "text/plain": [
       "property_id    object\n",
       "photo_urls     object\n",
       "dtype: object"
      ]
     },
     "execution_count": 51,
     "metadata": {},
     "output_type": "execute_result"
    }
   ],
   "source": [
    "df2.dtypes"
   ]
  },
  {
   "cell_type": "code",
   "execution_count": 52,
   "metadata": {},
   "outputs": [
    {
     "data": {
      "text/plain": [
       "property_id        0\n",
       "photo_urls     11022\n",
       "dtype: int64"
      ]
     },
     "execution_count": 52,
     "metadata": {},
     "output_type": "execute_result"
    }
   ],
   "source": [
    "df2.isna().sum()"
   ]
  },
  {
   "cell_type": "code",
   "execution_count": 53,
   "metadata": {},
   "outputs": [
    {
     "name": "stdout",
     "output_type": "stream",
     "text": [
      "Before Correction: \n",
      "\n",
      " [{\\title\\\":\\\"Balcony\\\",\\\"name\\\":\\\"IMG_20131006_120837.jpg\\\",\\\"imagesMap\\\":{\\\"original\\\":\\\"ff808081469fd6e20146a5af948000ea_65149_original.jpg\\\",\\\"thumbnail\\\":\\\"ff808081469fd6e20146a5af948000ea_65149_thumbnail.jpg\\\",\\\"medium\\\":\\\"ff808081469fd6e20146a5af948000ea_65149_medium.jpg\\\",\\\"large\\\":\\\"ff808081469fd6e20146a5af948000ea_65149_large.jpg\\\"},\\\"displayPic\\\":false},{\\\"title\\\":\\\"Bathroom\\\",\\\"name\\\":\\\"IMG_20131006_120734.jpg\\\",\\\"imagesMap\\\":{\\\"original\\\":\\\"ff808081469fd6e20146a5af948000ea_63511_original.jpg\\\",\\\"thumbnail\\\":\\\"ff808081469fd6e20146a5af948000ea_63511_thumbnail.jpg\\\",\\\"medium\\\":\\\"ff808081469fd6e20146a5af948000ea_63511_medium.jpg\\\",\\\"large\\\":\\\"ff808081469fd6e20146a5af948000ea_63511_large.jpg\\\"},\\\"displayPic\\\":false},{\\\"title\\\":\\\"Bedroom\\\",\\\"name\\\":\\\"IMG_20131006_120643.jpg\\\",\\\"imagesMap\\\":{\\\"original\\\":\\\"ff808081469fd6e20146a5af948000ea_16708_original.jpg\\\",\\\"thumbnail\\\":\\\"ff808081469fd6e20146a5af948000ea_16708_thumbnail.jpg\\\",\\\"medium\\\":\\\"ff808081469fd6e20146a5af948000ea_16708_medium.jpg\\\",\\\"large\\\":\\\"ff808081469fd6e20146a5af948000ea_16708_large.jpg\\\"},\\\"displayPic\\\":false},{\\\"title\\\":\\\"Hall\\\",\\\"name\\\":\\\"IMG_20131006_120745.jpg\\\",\\\"imagesMap\\\":{\\\"original\\\":\\\"ff808081469fd6e20146a5af948000ea_69828_original.jpg\\\",\\\"thumbnail\\\":\\\"ff808081469fd6e20146a5af948000ea_69828_thumbnail.jpg\\\",\\\"medium\\\":\\\"ff808081469fd6e20146a5af948000ea_69828_medium.jpg\\\",\\\"large\\\":\\\"ff808081469fd6e20146a5af948000ea_69828_large.jpg\\\"},\\\"displayPic\\\":false},{\\\"title\\\":\\\"Hall\\\",\\\"name\\\":\\\"IMG_20131006_120919.jpg\\\",\\\"imagesMap\\\":{\\\"original\\\":\\\"ff808081469fd6e20146a5af948000ea_32711_original.jpg\\\",\\\"thumbnail\\\":\\\"ff808081469fd6e20146a5af948000ea_32711_thumbnail.jpg\\\",\\\"medium\\\":\\\"ff808081469fd6e20146a5af948000ea_32711_medium.jpg\\\",\\\"large\\\":\\\"ff808081469fd6e20146a5af948000ea_32711_large.jpg\\\"},\\\"displayPic\\\":true},{\\\"title\\\":\\\"Kitchen\\\",\\\"name\\\":\\\"IMG_20131006_120612.jpg\\\",\\\"imagesMap\\\":{\\\"original\\\":\\\"ff808081469fd6e20146a5af948000ea_32363_original.jpg\\\",\\\"thumbnail\\\":\\\"ff808081469fd6e20146a5af948000ea_32363_thumbnail.jpg\\\",\\\"medium\\\":\\\"ff808081469fd6e20146a5af948000ea_32363_medium.jpg\\\",\\\"large\\\":\\\"ff808081469fd6e20146a5af948000ea_32363_large.jpg\\\"},\\\"displayPic\\\":false},{\\\"title\\\":\\\"Other\\\",\\\"name\\\":\\\"IMG_20131006_120853.jpg\\\",\\\"imagesMap\\\":{\\\"original\\\":\\\"ff808081469fd6e20146a5af948000ea_29724_original.jpg\\\",\\\"thumbnail\\\":\\\"ff808081469fd6e20146a5af948000ea_29724_thumbnail.jpg\\\",\\\"medium\\\":\\\"ff808081469fd6e20146a5af948000ea_29724_medium.jpg\\\",\\\"large\\\":\\\"ff808081469fd6e20146a5af948000ea_29724_large.jpg\\\"},\\\"displayPic\\\":false}]\"\n",
      "\n",
      "\n",
      "After correction and converted to json: \n",
      "\n",
      " [{'title': 'Balcony', 'name': 'IMG_20131006_120837.jpg', 'imagesMap': {'original': 'ff808081469fd6e20146a5af948000ea_65149_original.jpg', 'thumbnail': 'ff808081469fd6e20146a5af948000ea_65149_thumbnail.jpg', 'medium': 'ff808081469fd6e20146a5af948000ea_65149_medium.jpg', 'large': 'ff808081469fd6e20146a5af948000ea_65149_large.jpg'}, 'displayPic': False}, {'title': 'Bathroom', 'name': 'IMG_20131006_120734.jpg', 'imagesMap': {'original': 'ff808081469fd6e20146a5af948000ea_63511_original.jpg', 'thumbnail': 'ff808081469fd6e20146a5af948000ea_63511_thumbnail.jpg', 'medium': 'ff808081469fd6e20146a5af948000ea_63511_medium.jpg', 'large': 'ff808081469fd6e20146a5af948000ea_63511_large.jpg'}, 'displayPic': False}, {'title': 'Bedroom', 'name': 'IMG_20131006_120643.jpg', 'imagesMap': {'original': 'ff808081469fd6e20146a5af948000ea_16708_original.jpg', 'thumbnail': 'ff808081469fd6e20146a5af948000ea_16708_thumbnail.jpg', 'medium': 'ff808081469fd6e20146a5af948000ea_16708_medium.jpg', 'large': 'ff808081469fd6e20146a5af948000ea_16708_large.jpg'}, 'displayPic': False}, {'title': 'Hall', 'name': 'IMG_20131006_120745.jpg', 'imagesMap': {'original': 'ff808081469fd6e20146a5af948000ea_69828_original.jpg', 'thumbnail': 'ff808081469fd6e20146a5af948000ea_69828_thumbnail.jpg', 'medium': 'ff808081469fd6e20146a5af948000ea_69828_medium.jpg', 'large': 'ff808081469fd6e20146a5af948000ea_69828_large.jpg'}, 'displayPic': False}, {'title': 'Hall', 'name': 'IMG_20131006_120919.jpg', 'imagesMap': {'original': 'ff808081469fd6e20146a5af948000ea_32711_original.jpg', 'thumbnail': 'ff808081469fd6e20146a5af948000ea_32711_thumbnail.jpg', 'medium': 'ff808081469fd6e20146a5af948000ea_32711_medium.jpg', 'large': 'ff808081469fd6e20146a5af948000ea_32711_large.jpg'}, 'displayPic': True}, {'title': 'Kitchen', 'name': 'IMG_20131006_120612.jpg', 'imagesMap': {'original': 'ff808081469fd6e20146a5af948000ea_32363_original.jpg', 'thumbnail': 'ff808081469fd6e20146a5af948000ea_32363_thumbnail.jpg', 'medium': 'ff808081469fd6e20146a5af948000ea_32363_medium.jpg', 'large': 'ff808081469fd6e20146a5af948000ea_32363_large.jpg'}, 'displayPic': False}, {'title': 'Other', 'name': 'IMG_20131006_120853.jpg', 'imagesMap': {'original': 'ff808081469fd6e20146a5af948000ea_29724_original.jpg', 'thumbnail': 'ff808081469fd6e20146a5af948000ea_29724_thumbnail.jpg', 'medium': 'ff808081469fd6e20146a5af948000ea_29724_medium.jpg', 'large': 'ff808081469fd6e20146a5af948000ea_29724_large.jpg'}, 'displayPic': False}]\n"
     ]
    }
   ],
   "source": [
    "# Try to correct the first Json\n",
    "text_before = df2['photo_urls'][0]\n",
    "print('Before Correction: \\n\\n', text_before)\n",
    "# Try to replace corrupted values then convert to json \n",
    "text_after = text_before.replace('\\\\' , '').replace('{title','{\"title').replace(']\"' , ']').replace('],\"', ']\",\"')\n",
    "print(\"\\n\\nAfter correction and converted to json: \\n\\n\", json.loads(text_after))"
   ]
  },
  {
   "cell_type": "code",
   "execution_count": 54,
   "metadata": {},
   "outputs": [],
   "source": [
    "# Function to correct corrupted json and get count of photos\n",
    "def correction (x):\n",
    "    # if value is null put count with 0 photos\n",
    "    if x is np.nan or x == 'NaN':\n",
    "        return 0\n",
    "    else :\n",
    "        # Replace corrupted values then convert to json and get count of photos\n",
    "        return len(json.loads( x.replace('\\\\' , '').replace('{title','{\"title').replace(']\"' , ']').replace('],\"', ']\",\"') ))\n",
    "        \n",
    "# Apply Correction Function\n",
    "df2['photo_count'] = df2['photo_urls'].apply(correction)"
   ]
  },
  {
   "cell_type": "code",
   "execution_count": 55,
   "metadata": {},
   "outputs": [
    {
     "data": {
      "text/html": [
       "<div>\n",
       "<style scoped>\n",
       "    .dataframe tbody tr th:only-of-type {\n",
       "        vertical-align: middle;\n",
       "    }\n",
       "\n",
       "    .dataframe tbody tr th {\n",
       "        vertical-align: top;\n",
       "    }\n",
       "\n",
       "    .dataframe thead th {\n",
       "        text-align: right;\n",
       "    }\n",
       "</style>\n",
       "<table border=\"1\" class=\"dataframe\">\n",
       "  <thead>\n",
       "    <tr style=\"text-align: right;\">\n",
       "      <th></th>\n",
       "      <th>property_id</th>\n",
       "      <th>photo_count</th>\n",
       "    </tr>\n",
       "  </thead>\n",
       "  <tbody>\n",
       "    <tr>\n",
       "      <th>20907</th>\n",
       "      <td>ff8081815aa402ce015aa7be31480a0a</td>\n",
       "      <td>7</td>\n",
       "    </tr>\n",
       "    <tr>\n",
       "      <th>26474</th>\n",
       "      <td>ff8081815af67c48015af9a9ad4e654c</td>\n",
       "      <td>6</td>\n",
       "    </tr>\n",
       "    <tr>\n",
       "      <th>24236</th>\n",
       "      <td>ff8081815ad5e9a4015ad6afc0695c2c</td>\n",
       "      <td>0</td>\n",
       "    </tr>\n",
       "    <tr>\n",
       "      <th>9700</th>\n",
       "      <td>ff80818159fa0f0f0159fe1e5de84b1f</td>\n",
       "      <td>11</td>\n",
       "    </tr>\n",
       "    <tr>\n",
       "      <th>12315</th>\n",
       "      <td>ff8081815a21c1b1015a26a9901033a3</td>\n",
       "      <td>4</td>\n",
       "    </tr>\n",
       "  </tbody>\n",
       "</table>\n",
       "</div>"
      ],
      "text/plain": [
       "                            property_id  photo_count\n",
       "20907  ff8081815aa402ce015aa7be31480a0a            7\n",
       "26474  ff8081815af67c48015af9a9ad4e654c            6\n",
       "24236  ff8081815ad5e9a4015ad6afc0695c2c            0\n",
       "9700   ff80818159fa0f0f0159fe1e5de84b1f           11\n",
       "12315  ff8081815a21c1b1015a26a9901033a3            4"
      ]
     },
     "execution_count": 55,
     "metadata": {},
     "output_type": "execute_result"
    }
   ],
   "source": [
    "# Delete photo_urls column \n",
    "del df2['photo_urls']\n",
    "# Sample of Pics data\n",
    "df2.sample(5)"
   ]
  },
  {
   "cell_type": "markdown",
   "metadata": {},
   "source": [
    "To make more than one model and achieve the best of them, we assign more than one label here:\n",
    "\n",
    "\n",
    "1.   The number of interactions within 3 days\n",
    "2.   Interactions divided into categories within 3 days\n",
    "3.   The number of interactions within 7 days\n",
    "4.   Interactions divided into categories within 7 days"
   ]
  },
  {
   "cell_type": "markdown",
   "metadata": {},
   "source": [
    "# Number of Interaction Within 3 Days"
   ]
  },
  {
   "cell_type": "markdown",
   "metadata": {},
   "source": [
    "In this step, we will determine the number of interactions within a span of 3 days by performing the following actions:\n",
    "\n",
    " 1. Merge the property data with the interactions data and extract the columns containing property ID, request  date, and activation date.\n",
    "\n",
    "2. Calculate the time elapsed between the request and activation dates to identify requests made within a specific timeframe.\n",
    "\n",
    "3. Obtain the count of requests made within the first 3 days by considering all values where the time between the request and activation date is less than 3 days."
   ]
  },
  {
   "cell_type": "code",
   "execution_count": 56,
   "metadata": {},
   "outputs": [
    {
     "data": {
      "text/html": [
       "<div>\n",
       "<style scoped>\n",
       "    .dataframe tbody tr th:only-of-type {\n",
       "        vertical-align: middle;\n",
       "    }\n",
       "\n",
       "    .dataframe tbody tr th {\n",
       "        vertical-align: top;\n",
       "    }\n",
       "\n",
       "    .dataframe thead th {\n",
       "        text-align: right;\n",
       "    }\n",
       "</style>\n",
       "<table border=\"1\" class=\"dataframe\">\n",
       "  <thead>\n",
       "    <tr style=\"text-align: right;\">\n",
       "      <th></th>\n",
       "      <th>property_id</th>\n",
       "      <th>request_date</th>\n",
       "      <th>activation_date</th>\n",
       "    </tr>\n",
       "  </thead>\n",
       "  <tbody>\n",
       "    <tr>\n",
       "      <th>0</th>\n",
       "      <td>ff808081469fd6e20146a5af948000ea</td>\n",
       "      <td>2017-03-10 17:42:34</td>\n",
       "      <td>2017-03-09 14:36:00</td>\n",
       "    </tr>\n",
       "    <tr>\n",
       "      <th>1</th>\n",
       "      <td>ff808081469fd6e20146a5af948000ea</td>\n",
       "      <td>2017-03-09 15:51:17</td>\n",
       "      <td>2017-03-09 14:36:00</td>\n",
       "    </tr>\n",
       "    <tr>\n",
       "      <th>2</th>\n",
       "      <td>ff808081469fd6e20146a5af948000ea</td>\n",
       "      <td>2017-03-10 17:30:22</td>\n",
       "      <td>2017-03-09 14:36:00</td>\n",
       "    </tr>\n",
       "    <tr>\n",
       "      <th>3</th>\n",
       "      <td>ff808081469fd6e20146a5af948000ea</td>\n",
       "      <td>2017-03-11 17:48:46</td>\n",
       "      <td>2017-03-09 14:36:00</td>\n",
       "    </tr>\n",
       "    <tr>\n",
       "      <th>4</th>\n",
       "      <td>ff8080814702d3d10147068359d200cd</td>\n",
       "      <td>2017-03-30 19:59:15</td>\n",
       "      <td>2017-03-07 12:02:00</td>\n",
       "    </tr>\n",
       "  </tbody>\n",
       "</table>\n",
       "</div>"
      ],
      "text/plain": [
       "                        property_id         request_date     activation_date\n",
       "0  ff808081469fd6e20146a5af948000ea  2017-03-10 17:42:34 2017-03-09 14:36:00\n",
       "1  ff808081469fd6e20146a5af948000ea  2017-03-09 15:51:17 2017-03-09 14:36:00\n",
       "2  ff808081469fd6e20146a5af948000ea  2017-03-10 17:30:22 2017-03-09 14:36:00\n",
       "3  ff808081469fd6e20146a5af948000ea  2017-03-11 17:48:46 2017-03-09 14:36:00\n",
       "4  ff8080814702d3d10147068359d200cd  2017-03-30 19:59:15 2017-03-07 12:02:00"
      ]
     },
     "execution_count": 56,
     "metadata": {},
     "output_type": "execute_result"
    }
   ],
   "source": [
    "# Merge data with interactions data on property_id\n",
    "num_req = pd.merge(df, df1, on ='property_id')[['property_id', 'request_date', 'activation_date']]\n",
    "num_req.head(5)"
   ]
  },
  {
   "cell_type": "code",
   "execution_count": 58,
   "metadata": {},
   "outputs": [],
   "source": [
    "# Convert 'request_date' and 'activation_date' to datetime if they are not already\n",
    "num_req['request_date'] = pd.to_datetime(num_req['request_date'])\n",
    "num_req['activation_date'] = pd.to_datetime(num_req['activation_date'])"
   ]
  },
  {
   "cell_type": "code",
   "execution_count": 59,
   "metadata": {},
   "outputs": [],
   "source": [
    "# Get a Time between Request and Activation Date to be able to select request within the number of days\n",
    "num_req['request_day'] = (num_req['request_date'] - num_req['activation_date']) / np.timedelta64(1, 'D')"
   ]
  },
  {
   "cell_type": "code",
   "execution_count": 60,
   "metadata": {},
   "outputs": [
    {
     "data": {
      "text/html": [
       "<div>\n",
       "<style scoped>\n",
       "    .dataframe tbody tr th:only-of-type {\n",
       "        vertical-align: middle;\n",
       "    }\n",
       "\n",
       "    .dataframe tbody tr th {\n",
       "        vertical-align: top;\n",
       "    }\n",
       "\n",
       "    .dataframe thead th {\n",
       "        text-align: right;\n",
       "    }\n",
       "</style>\n",
       "<table border=\"1\" class=\"dataframe\">\n",
       "  <thead>\n",
       "    <tr style=\"text-align: right;\">\n",
       "      <th></th>\n",
       "      <th>property_id</th>\n",
       "      <th>request_date</th>\n",
       "      <th>activation_date</th>\n",
       "      <th>request_day</th>\n",
       "    </tr>\n",
       "  </thead>\n",
       "  <tbody>\n",
       "    <tr>\n",
       "      <th>0</th>\n",
       "      <td>ff808081469fd6e20146a5af948000ea</td>\n",
       "      <td>2017-03-10 17:42:34</td>\n",
       "      <td>2017-03-09 14:36:00</td>\n",
       "      <td>1.129560</td>\n",
       "    </tr>\n",
       "    <tr>\n",
       "      <th>1</th>\n",
       "      <td>ff808081469fd6e20146a5af948000ea</td>\n",
       "      <td>2017-03-09 15:51:17</td>\n",
       "      <td>2017-03-09 14:36:00</td>\n",
       "      <td>0.052280</td>\n",
       "    </tr>\n",
       "    <tr>\n",
       "      <th>2</th>\n",
       "      <td>ff808081469fd6e20146a5af948000ea</td>\n",
       "      <td>2017-03-10 17:30:22</td>\n",
       "      <td>2017-03-09 14:36:00</td>\n",
       "      <td>1.121088</td>\n",
       "    </tr>\n",
       "  </tbody>\n",
       "</table>\n",
       "</div>"
      ],
      "text/plain": [
       "                        property_id        request_date     activation_date  \\\n",
       "0  ff808081469fd6e20146a5af948000ea 2017-03-10 17:42:34 2017-03-09 14:36:00   \n",
       "1  ff808081469fd6e20146a5af948000ea 2017-03-09 15:51:17 2017-03-09 14:36:00   \n",
       "2  ff808081469fd6e20146a5af948000ea 2017-03-10 17:30:22 2017-03-09 14:36:00   \n",
       "\n",
       "   request_day  \n",
       "0     1.129560  \n",
       "1     0.052280  \n",
       "2     1.121088  "
      ]
     },
     "execution_count": 60,
     "metadata": {},
     "output_type": "execute_result"
    }
   ],
   "source": [
    "# Show the three row of data\n",
    "num_req.head(3)"
   ]
  },
  {
   "cell_type": "code",
   "execution_count": 61,
   "metadata": {},
   "outputs": [
    {
     "data": {
      "text/html": [
       "<div>\n",
       "<style scoped>\n",
       "    .dataframe tbody tr th:only-of-type {\n",
       "        vertical-align: middle;\n",
       "    }\n",
       "\n",
       "    .dataframe tbody tr th {\n",
       "        vertical-align: top;\n",
       "    }\n",
       "\n",
       "    .dataframe thead th {\n",
       "        text-align: right;\n",
       "    }\n",
       "</style>\n",
       "<table border=\"1\" class=\"dataframe\">\n",
       "  <thead>\n",
       "    <tr style=\"text-align: right;\">\n",
       "      <th></th>\n",
       "      <th>property_id</th>\n",
       "      <th>request_day_within_3d</th>\n",
       "    </tr>\n",
       "  </thead>\n",
       "  <tbody>\n",
       "    <tr>\n",
       "      <th>0</th>\n",
       "      <td>ff808081469fd6e20146a5af948000ea</td>\n",
       "      <td>4</td>\n",
       "    </tr>\n",
       "    <tr>\n",
       "      <th>1</th>\n",
       "      <td>ff8080814702d3d10147068359d200cd</td>\n",
       "      <td>3</td>\n",
       "    </tr>\n",
       "    <tr>\n",
       "      <th>2</th>\n",
       "      <td>ff808081470c645401470fb03f5800a6</td>\n",
       "      <td>15</td>\n",
       "    </tr>\n",
       "    <tr>\n",
       "      <th>3</th>\n",
       "      <td>ff808081470c6454014715eaa5960281</td>\n",
       "      <td>5</td>\n",
       "    </tr>\n",
       "    <tr>\n",
       "      <th>4</th>\n",
       "      <td>ff808081474aa867014771a0298f0aa6</td>\n",
       "      <td>25</td>\n",
       "    </tr>\n",
       "    <tr>\n",
       "      <th>...</th>\n",
       "      <td>...</td>\n",
       "      <td>...</td>\n",
       "    </tr>\n",
       "    <tr>\n",
       "      <th>13205</th>\n",
       "      <td>ff8081815b1fdda8015b1fdf585c004b</td>\n",
       "      <td>2</td>\n",
       "    </tr>\n",
       "    <tr>\n",
       "      <th>13206</th>\n",
       "      <td>ff8081815b1fdda8015b1fe675ae0146</td>\n",
       "      <td>5</td>\n",
       "    </tr>\n",
       "    <tr>\n",
       "      <th>13207</th>\n",
       "      <td>ff8081815b1fdda8015b1ffee8a305d2</td>\n",
       "      <td>2</td>\n",
       "    </tr>\n",
       "    <tr>\n",
       "      <th>13208</th>\n",
       "      <td>ff8081815b200540015b20158b0103c9</td>\n",
       "      <td>2</td>\n",
       "    </tr>\n",
       "    <tr>\n",
       "      <th>13209</th>\n",
       "      <td>ff8081815b2007fc015b201c77a20395</td>\n",
       "      <td>2</td>\n",
       "    </tr>\n",
       "  </tbody>\n",
       "</table>\n",
       "<p>13210 rows × 2 columns</p>\n",
       "</div>"
      ],
      "text/plain": [
       "                            property_id  request_day_within_3d\n",
       "0      ff808081469fd6e20146a5af948000ea                      4\n",
       "1      ff8080814702d3d10147068359d200cd                      3\n",
       "2      ff808081470c645401470fb03f5800a6                     15\n",
       "3      ff808081470c6454014715eaa5960281                      5\n",
       "4      ff808081474aa867014771a0298f0aa6                     25\n",
       "...                                 ...                    ...\n",
       "13205  ff8081815b1fdda8015b1fdf585c004b                      2\n",
       "13206  ff8081815b1fdda8015b1fe675ae0146                      5\n",
       "13207  ff8081815b1fdda8015b1ffee8a305d2                      2\n",
       "13208  ff8081815b200540015b20158b0103c9                      2\n",
       "13209  ff8081815b2007fc015b201c77a20395                      2\n",
       "\n",
       "[13210 rows x 2 columns]"
      ]
     },
     "execution_count": 61,
     "metadata": {},
     "output_type": "execute_result"
    }
   ],
   "source": [
    "# Get a count of requests in the first 3 days  \n",
    "num_req_within_3d = num_req[num_req['request_day'] < 3].groupby('property_id').agg({ 'request_day':'count'}).reset_index()\n",
    "\n",
    "# Show every property id with the number of requests in the first 3 days\n",
    "num_req_within_3d = num_req_within_3d.rename({'request_day':'request_day_within_3d'},axis=1)\n",
    "\n",
    "# Dataset with the number of requests within 3 days\n",
    "num_req_within_3d"
   ]
  },
  {
   "cell_type": "markdown",
   "metadata": {},
   "source": [
    "Now, we have the request_day_within_3d column which has the number of requests within three days.\n",
    "\n",
    "We can convert the Interaction values to categorical values.\n",
    "\n",
    "We will use the following categories:\n",
    "\n",
    "1. cat_1_to_2: one or two requests within 3 days;\n",
    "2. cat_3_to_5 : three to five requests within 3 days;\n",
    "3. cat_above_5 : above five requests within 3 days;"
   ]
  },
  {
   "cell_type": "code",
   "execution_count": 63,
   "metadata": {},
   "outputs": [
    {
     "data": {
      "text/plain": [
       "request_day_within_3d\n",
       "1    5940\n",
       "2    2741\n",
       "3    1579\n",
       "4     887\n",
       "5     583\n",
       "6     373\n",
       "7     246\n",
       "8     186\n",
       "9     148\n",
       "Name: count, dtype: int64"
      ]
     },
     "execution_count": 63,
     "metadata": {},
     "output_type": "execute_result"
    }
   ],
   "source": [
    "num_req_within_3d['request_day_within_3d'].value_counts()[:9]"
   ]
  },
  {
   "cell_type": "code",
   "execution_count": 64,
   "metadata": {},
   "outputs": [
    {
     "data": {
      "image/png": "[encoded data removed]",
      "text/plain": [
       "<Figure size 700x300 with 1 Axes>"
      ]
     },
     "metadata": {},
     "output_type": "display_data"
    }
   ],
   "source": [
    "# Show histogram of the number of requests in the first 3 days\n",
    "plt.figure(figsize=(7,3))\n",
    "sns.histplot(num_req_within_3d, x=\"request_day_within_3d\")\n",
    "\n",
    "plt.title('histogram of num. of requests in first 3 days')\n",
    "plt.show()"
   ]
  },
  {
   "cell_type": "code",
   "execution_count": 65,
   "metadata": {},
   "outputs": [],
   "source": [
    "def categorise(x):\n",
    "    if x in [1,2]:\n",
    "        return 'cat_1_to_2'\n",
    "    elif x in [3,4,5]:\n",
    "        return 'cat_3_to_5'\n",
    "    else:\n",
    "        return 'cat_above_5'"
   ]
  },
  {
   "cell_type": "code",
   "execution_count": 66,
   "metadata": {},
   "outputs": [
    {
     "data": {
      "text/html": [
       "<div>\n",
       "<style scoped>\n",
       "    .dataframe tbody tr th:only-of-type {\n",
       "        vertical-align: middle;\n",
       "    }\n",
       "\n",
       "    .dataframe tbody tr th {\n",
       "        vertical-align: top;\n",
       "    }\n",
       "\n",
       "    .dataframe thead th {\n",
       "        text-align: right;\n",
       "    }\n",
       "</style>\n",
       "<table border=\"1\" class=\"dataframe\">\n",
       "  <thead>\n",
       "    <tr style=\"text-align: right;\">\n",
       "      <th></th>\n",
       "      <th>property_id</th>\n",
       "      <th>request_day_within_3d</th>\n",
       "      <th>categories_3day</th>\n",
       "    </tr>\n",
       "  </thead>\n",
       "  <tbody>\n",
       "    <tr>\n",
       "      <th>0</th>\n",
       "      <td>ff808081469fd6e20146a5af948000ea</td>\n",
       "      <td>4</td>\n",
       "      <td>cat_3_to_5</td>\n",
       "    </tr>\n",
       "    <tr>\n",
       "      <th>1</th>\n",
       "      <td>ff8080814702d3d10147068359d200cd</td>\n",
       "      <td>3</td>\n",
       "      <td>cat_3_to_5</td>\n",
       "    </tr>\n",
       "    <tr>\n",
       "      <th>2</th>\n",
       "      <td>ff808081470c645401470fb03f5800a6</td>\n",
       "      <td>15</td>\n",
       "      <td>cat_above_5</td>\n",
       "    </tr>\n",
       "  </tbody>\n",
       "</table>\n",
       "</div>"
      ],
      "text/plain": [
       "                        property_id  request_day_within_3d categories_3day\n",
       "0  ff808081469fd6e20146a5af948000ea                      4      cat_3_to_5\n",
       "1  ff8080814702d3d10147068359d200cd                      3      cat_3_to_5\n",
       "2  ff808081470c645401470fb03f5800a6                     15     cat_above_5"
      ]
     },
     "execution_count": 66,
     "metadata": {},
     "output_type": "execute_result"
    }
   ],
   "source": [
    "num_req_within_3d['categories_3day'] = num_req_within_3d['request_day_within_3d'].apply(categorise)\n",
    "num_req_within_3d.head(3)"
   ]
  },
  {
   "cell_type": "code",
   "execution_count": 67,
   "metadata": {},
   "outputs": [
    {
     "data": {
      "text/plain": [
       "categories_3day\n",
       "cat_1_to_2     8681\n",
       "cat_3_to_5     3049\n",
       "cat_above_5    1480\n",
       "Name: count, dtype: int64"
      ]
     },
     "execution_count": 67,
     "metadata": {},
     "output_type": "execute_result"
    }
   ],
   "source": [
    "num_req_within_3d['categories_3day'].value_counts()"
   ]
  },
  {
   "cell_type": "markdown",
   "metadata": {},
   "source": [
    "# Number of Interaction Within 1 Week"
   ]
  },
  {
   "cell_type": "markdown",
   "metadata": {},
   "source": [
    "In this step, like before, we will get the number of interactions but this time within 7 days by following steps:\n",
    "\n",
    "1. By taking the dataset we used before which has [property_id, request_date, activation_date] columns.\n",
    "2. We get a count of requests within the first 7 days, by taking all values if the Time between the Request and Activation Date is less than 7."
   ]
  },
  {
   "cell_type": "code",
   "execution_count": 68,
   "metadata": {},
   "outputs": [
    {
     "data": {
      "text/html": [
       "<div>\n",
       "<style scoped>\n",
       "    .dataframe tbody tr th:only-of-type {\n",
       "        vertical-align: middle;\n",
       "    }\n",
       "\n",
       "    .dataframe tbody tr th {\n",
       "        vertical-align: top;\n",
       "    }\n",
       "\n",
       "    .dataframe thead th {\n",
       "        text-align: right;\n",
       "    }\n",
       "</style>\n",
       "<table border=\"1\" class=\"dataframe\">\n",
       "  <thead>\n",
       "    <tr style=\"text-align: right;\">\n",
       "      <th></th>\n",
       "      <th>property_id</th>\n",
       "      <th>request_day_within_7d</th>\n",
       "    </tr>\n",
       "  </thead>\n",
       "  <tbody>\n",
       "    <tr>\n",
       "      <th>0</th>\n",
       "      <td>ff808081469fd6e20146a5af948000ea</td>\n",
       "      <td>4</td>\n",
       "    </tr>\n",
       "    <tr>\n",
       "      <th>1</th>\n",
       "      <td>ff8080814702d3d10147068359d200cd</td>\n",
       "      <td>5</td>\n",
       "    </tr>\n",
       "    <tr>\n",
       "      <th>2</th>\n",
       "      <td>ff808081470c645401470fb03f5800a6</td>\n",
       "      <td>22</td>\n",
       "    </tr>\n",
       "    <tr>\n",
       "      <th>3</th>\n",
       "      <td>ff808081470c6454014715eaa5960281</td>\n",
       "      <td>7</td>\n",
       "    </tr>\n",
       "    <tr>\n",
       "      <th>4</th>\n",
       "      <td>ff808081474aa867014771a0298f0aa6</td>\n",
       "      <td>52</td>\n",
       "    </tr>\n",
       "    <tr>\n",
       "      <th>...</th>\n",
       "      <td>...</td>\n",
       "      <td>...</td>\n",
       "    </tr>\n",
       "    <tr>\n",
       "      <th>17381</th>\n",
       "      <td>ff8081815b1fdda8015b1fe675ae0146</td>\n",
       "      <td>8</td>\n",
       "    </tr>\n",
       "    <tr>\n",
       "      <th>17382</th>\n",
       "      <td>ff8081815b1fdda8015b1ffee8a305d2</td>\n",
       "      <td>3</td>\n",
       "    </tr>\n",
       "    <tr>\n",
       "      <th>17383</th>\n",
       "      <td>ff8081815b1fdda8015b2000369205fd</td>\n",
       "      <td>2</td>\n",
       "    </tr>\n",
       "    <tr>\n",
       "      <th>17384</th>\n",
       "      <td>ff8081815b200540015b20158b0103c9</td>\n",
       "      <td>2</td>\n",
       "    </tr>\n",
       "    <tr>\n",
       "      <th>17385</th>\n",
       "      <td>ff8081815b2007fc015b201c77a20395</td>\n",
       "      <td>4</td>\n",
       "    </tr>\n",
       "  </tbody>\n",
       "</table>\n",
       "<p>17386 rows × 2 columns</p>\n",
       "</div>"
      ],
      "text/plain": [
       "                            property_id  request_day_within_7d\n",
       "0      ff808081469fd6e20146a5af948000ea                      4\n",
       "1      ff8080814702d3d10147068359d200cd                      5\n",
       "2      ff808081470c645401470fb03f5800a6                     22\n",
       "3      ff808081470c6454014715eaa5960281                      7\n",
       "4      ff808081474aa867014771a0298f0aa6                     52\n",
       "...                                 ...                    ...\n",
       "17381  ff8081815b1fdda8015b1fe675ae0146                      8\n",
       "17382  ff8081815b1fdda8015b1ffee8a305d2                      3\n",
       "17383  ff8081815b1fdda8015b2000369205fd                      2\n",
       "17384  ff8081815b200540015b20158b0103c9                      2\n",
       "17385  ff8081815b2007fc015b201c77a20395                      4\n",
       "\n",
       "[17386 rows x 2 columns]"
      ]
     },
     "execution_count": 68,
     "metadata": {},
     "output_type": "execute_result"
    }
   ],
   "source": [
    "# Get a count of requests in the first 7 days  \n",
    "num_req_within_7d = num_req[num_req['request_day'] < 7].groupby('property_id').agg({ 'request_day':'count'}).reset_index()\n",
    "\n",
    "# Show every property id with the number of requests in the first 7 days\n",
    "num_req_within_7d = num_req_within_7d.rename({'request_day':'request_day_within_7d'},axis=1)\n",
    "\n",
    "# Dataset with the number of requests within 7 days\n",
    "num_req_within_7d"
   ]
  },
  {
   "cell_type": "markdown",
   "metadata": {},
   "source": [
    "We can convert the Interaction values to categorical values. After seeing the distribution of interactions within 3 days, we decide to convert the values into three classes:\n",
    "\n",
    "1. cat_1_to_2: one or two requests within 7 days\n",
    "2. cat_3_to_5 : three to five requests within 7 days\n",
    "3. cat_above_5 : above five requests within 7 days"
   ]
  },
  {
   "cell_type": "code",
   "execution_count": 69,
   "metadata": {},
   "outputs": [
    {
     "data": {
      "text/plain": [
       "request_day_within_7d\n",
       "1     5856\n",
       "2     3381\n",
       "3     2118\n",
       "4     1421\n",
       "5     1047\n",
       "6      735\n",
       "7      597\n",
       "8      373\n",
       "9      323\n",
       "10     240\n",
       "Name: count, dtype: int64"
      ]
     },
     "execution_count": 69,
     "metadata": {},
     "output_type": "execute_result"
    }
   ],
   "source": [
    "num_req_within_7d['request_day_within_7d'].value_counts()[:10]\n"
   ]
  },
  {
   "cell_type": "code",
   "execution_count": 70,
   "metadata": {},
   "outputs": [
    {
     "data": {
      "image/png": "[encoded data removed]",
      "text/plain": [
       "<Figure size 700x300 with 1 Axes>"
      ]
     },
     "metadata": {},
     "output_type": "display_data"
    }
   ],
   "source": [
    "# Show histogram of the number of requests in the first 3 days\n",
    "plt.figure(figsize=(7,3))\n",
    "sns.histplot(num_req_within_7d, x=\"request_day_within_7d\")\n",
    "\n",
    "plt.title('histogram of num. of requests in first 7 days')\n",
    "plt.show()"
   ]
  },
  {
   "cell_type": "code",
   "execution_count": 86,
   "metadata": {},
   "outputs": [
    {
     "data": {
      "text/html": [
       "<div>\n",
       "<style scoped>\n",
       "    .dataframe tbody tr th:only-of-type {\n",
       "        vertical-align: middle;\n",
       "    }\n",
       "\n",
       "    .dataframe tbody tr th {\n",
       "        vertical-align: top;\n",
       "    }\n",
       "\n",
       "    .dataframe thead th {\n",
       "        text-align: right;\n",
       "    }\n",
       "</style>\n",
       "<table border=\"1\" class=\"dataframe\">\n",
       "  <thead>\n",
       "    <tr style=\"text-align: right;\">\n",
       "      <th></th>\n",
       "      <th>property_id</th>\n",
       "      <th>request_day_within_7d</th>\n",
       "      <th>categories_7day</th>\n",
       "    </tr>\n",
       "  </thead>\n",
       "  <tbody>\n",
       "    <tr>\n",
       "      <th>0</th>\n",
       "      <td>ff808081469fd6e20146a5af948000ea</td>\n",
       "      <td>4</td>\n",
       "      <td>cat_3_to_5</td>\n",
       "    </tr>\n",
       "    <tr>\n",
       "      <th>1</th>\n",
       "      <td>ff8080814702d3d10147068359d200cd</td>\n",
       "      <td>11</td>\n",
       "      <td>cat_above_5</td>\n",
       "    </tr>\n",
       "    <tr>\n",
       "      <th>2</th>\n",
       "      <td>ff808081470c645401470fb03f5800a6</td>\n",
       "      <td>27</td>\n",
       "      <td>cat_above_5</td>\n",
       "    </tr>\n",
       "  </tbody>\n",
       "</table>\n",
       "</div>"
      ],
      "text/plain": [
       "                        property_id  request_day_within_7d categories_7day\n",
       "0  ff808081469fd6e20146a5af948000ea                      4      cat_3_to_5\n",
       "1  ff8080814702d3d10147068359d200cd                     11     cat_above_5\n",
       "2  ff808081470c645401470fb03f5800a6                     27     cat_above_5"
      ]
     },
     "execution_count": 86,
     "metadata": {},
     "output_type": "execute_result"
    }
   ],
   "source": [
    "num_req_within_7d['categories_7day'] = num_req_within_7d['request_day_within_7d'].apply(categorise)\n",
    "num_req_within_7d.head(3)"
   ]
  },
  {
   "cell_type": "code",
   "execution_count": 87,
   "metadata": {},
   "outputs": [
    {
     "data": {
      "text/plain": [
       "categories_7day\n",
       "cat_above_5    8318\n",
       "cat_1_to_2     8098\n",
       "cat_3_to_5     5765\n",
       "Name: count, dtype: int64"
      ]
     },
     "execution_count": 87,
     "metadata": {},
     "output_type": "execute_result"
    }
   ],
   "source": [
    "num_req_within_7d['categories_7day'].value_counts()"
   ]
  },
  {
   "cell_type": "markdown",
   "metadata": {},
   "source": [
    "# MERGE ALL DATA-SET"
   ]
  },
  {
   "cell_type": "code",
   "execution_count": 76,
   "metadata": {},
   "outputs": [
    {
     "data": {
      "text/html": [
       "<div>\n",
       "<style scoped>\n",
       "    .dataframe tbody tr th:only-of-type {\n",
       "        vertical-align: middle;\n",
       "    }\n",
       "\n",
       "    .dataframe tbody tr th {\n",
       "        vertical-align: top;\n",
       "    }\n",
       "\n",
       "    .dataframe thead th {\n",
       "        text-align: right;\n",
       "    }\n",
       "</style>\n",
       "<table border=\"1\" class=\"dataframe\">\n",
       "  <thead>\n",
       "    <tr style=\"text-align: right;\">\n",
       "      <th></th>\n",
       "      <th>property_id</th>\n",
       "      <th>type</th>\n",
       "      <th>activation_date</th>\n",
       "      <th>bathroom</th>\n",
       "      <th>floor</th>\n",
       "      <th>total_floor</th>\n",
       "      <th>furnishing</th>\n",
       "      <th>gym</th>\n",
       "      <th>latitude</th>\n",
       "      <th>longitude</th>\n",
       "      <th>lease_type</th>\n",
       "      <th>lift</th>\n",
       "      <th>locality</th>\n",
       "      <th>parking</th>\n",
       "      <th>property_age</th>\n",
       "      <th>property_size</th>\n",
       "      <th>swimming_pool</th>\n",
       "      <th>pin_code</th>\n",
       "      <th>rent</th>\n",
       "      <th>deposit</th>\n",
       "      <th>building_type</th>\n",
       "    </tr>\n",
       "  </thead>\n",
       "  <tbody>\n",
       "    <tr>\n",
       "      <th>20716</th>\n",
       "      <td>ff8081815aa3a630015aa3b24a7704e1</td>\n",
       "      <td>BHK3</td>\n",
       "      <td>2017-03-06 18:44:00</td>\n",
       "      <td>3</td>\n",
       "      <td>4</td>\n",
       "      <td>10.0</td>\n",
       "      <td>FULLY_FURNISHED</td>\n",
       "      <td>1</td>\n",
       "      <td>12.990273</td>\n",
       "      <td>77.719593</td>\n",
       "      <td>ANYONE</td>\n",
       "      <td>1</td>\n",
       "      <td>Whitefield</td>\n",
       "      <td>BOTH</td>\n",
       "      <td>2</td>\n",
       "      <td>1600</td>\n",
       "      <td>1</td>\n",
       "      <td>560048.0</td>\n",
       "      <td>4000</td>\n",
       "      <td>30000</td>\n",
       "      <td>AP</td>\n",
       "    </tr>\n",
       "  </tbody>\n",
       "</table>\n",
       "</div>"
      ],
      "text/plain": [
       "                            property_id  type     activation_date  bathroom  \\\n",
       "20716  ff8081815aa3a630015aa3b24a7704e1  BHK3 2017-03-06 18:44:00         3   \n",
       "\n",
       "       floor  total_floor       furnishing  gym   latitude  longitude  \\\n",
       "20716      4         10.0  FULLY_FURNISHED    1  12.990273  77.719593   \n",
       "\n",
       "      lease_type  lift    locality parking  property_age  property_size  \\\n",
       "20716     ANYONE     1  Whitefield    BOTH             2           1600   \n",
       "\n",
       "       swimming_pool  pin_code  rent  deposit building_type  \n",
       "20716              1  560048.0  4000    30000            AP  "
      ]
     },
     "execution_count": 76,
     "metadata": {},
     "output_type": "execute_result"
    }
   ],
   "source": [
    "df.sample(1)"
   ]
  },
  {
   "cell_type": "code",
   "execution_count": 77,
   "metadata": {},
   "outputs": [
    {
     "data": {
      "text/html": [
       "<div>\n",
       "<style scoped>\n",
       "    .dataframe tbody tr th:only-of-type {\n",
       "        vertical-align: middle;\n",
       "    }\n",
       "\n",
       "    .dataframe tbody tr th {\n",
       "        vertical-align: top;\n",
       "    }\n",
       "\n",
       "    .dataframe thead th {\n",
       "        text-align: right;\n",
       "    }\n",
       "</style>\n",
       "<table border=\"1\" class=\"dataframe\">\n",
       "  <thead>\n",
       "    <tr style=\"text-align: right;\">\n",
       "      <th></th>\n",
       "      <th>property_id</th>\n",
       "      <th>request_date</th>\n",
       "    </tr>\n",
       "  </thead>\n",
       "  <tbody>\n",
       "    <tr>\n",
       "      <th>101887</th>\n",
       "      <td>ff8081815a63ff3d015a649e7881511f</td>\n",
       "      <td>2017-03-20 22:47:30</td>\n",
       "    </tr>\n",
       "  </tbody>\n",
       "</table>\n",
       "</div>"
      ],
      "text/plain": [
       "                             property_id         request_date\n",
       "101887  ff8081815a63ff3d015a649e7881511f  2017-03-20 22:47:30"
      ]
     },
     "execution_count": 77,
     "metadata": {},
     "output_type": "execute_result"
    }
   ],
   "source": [
    "df1.sample(1) #Intersection data"
   ]
  },
  {
   "cell_type": "code",
   "execution_count": 78,
   "metadata": {},
   "outputs": [
    {
     "data": {
      "text/html": [
       "<div>\n",
       "<style scoped>\n",
       "    .dataframe tbody tr th:only-of-type {\n",
       "        vertical-align: middle;\n",
       "    }\n",
       "\n",
       "    .dataframe tbody tr th {\n",
       "        vertical-align: top;\n",
       "    }\n",
       "\n",
       "    .dataframe thead th {\n",
       "        text-align: right;\n",
       "    }\n",
       "</style>\n",
       "<table border=\"1\" class=\"dataframe\">\n",
       "  <thead>\n",
       "    <tr style=\"text-align: right;\">\n",
       "      <th></th>\n",
       "      <th>property_id</th>\n",
       "      <th>photo_count</th>\n",
       "    </tr>\n",
       "  </thead>\n",
       "  <tbody>\n",
       "    <tr>\n",
       "      <th>1395</th>\n",
       "      <td>ff8081814fd4a00e014fd4ccbc590170</td>\n",
       "      <td>7</td>\n",
       "    </tr>\n",
       "  </tbody>\n",
       "</table>\n",
       "</div>"
      ],
      "text/plain": [
       "                           property_id  photo_count\n",
       "1395  ff8081814fd4a00e014fd4ccbc590170            7"
      ]
     },
     "execution_count": 78,
     "metadata": {},
     "output_type": "execute_result"
    }
   ],
   "source": [
    "df2.sample(1) #pics data"
   ]
  },
  {
   "cell_type": "code",
   "execution_count": 79,
   "metadata": {},
   "outputs": [
    {
     "data": {
      "text/html": [
       "<div>\n",
       "<style scoped>\n",
       "    .dataframe tbody tr th:only-of-type {\n",
       "        vertical-align: middle;\n",
       "    }\n",
       "\n",
       "    .dataframe tbody tr th {\n",
       "        vertical-align: top;\n",
       "    }\n",
       "\n",
       "    .dataframe thead th {\n",
       "        text-align: right;\n",
       "    }\n",
       "</style>\n",
       "<table border=\"1\" class=\"dataframe\">\n",
       "  <thead>\n",
       "    <tr style=\"text-align: right;\">\n",
       "      <th></th>\n",
       "      <th>property_id</th>\n",
       "      <th>request_day_within_3d</th>\n",
       "      <th>categories_3day</th>\n",
       "    </tr>\n",
       "  </thead>\n",
       "  <tbody>\n",
       "    <tr>\n",
       "      <th>6186</th>\n",
       "      <td>ff8081815a30d446015a35cf04833145</td>\n",
       "      <td>3</td>\n",
       "      <td>cat_3_to_5</td>\n",
       "    </tr>\n",
       "  </tbody>\n",
       "</table>\n",
       "</div>"
      ],
      "text/plain": [
       "                           property_id  request_day_within_3d categories_3day\n",
       "6186  ff8081815a30d446015a35cf04833145                      3      cat_3_to_5"
      ]
     },
     "execution_count": 79,
     "metadata": {},
     "output_type": "execute_result"
    }
   ],
   "source": [
    "num_req_within_3d.sample()"
   ]
  },
  {
   "cell_type": "code",
   "execution_count": 88,
   "metadata": {},
   "outputs": [
    {
     "data": {
      "text/html": [
       "<div>\n",
       "<style scoped>\n",
       "    .dataframe tbody tr th:only-of-type {\n",
       "        vertical-align: middle;\n",
       "    }\n",
       "\n",
       "    .dataframe tbody tr th {\n",
       "        vertical-align: top;\n",
       "    }\n",
       "\n",
       "    .dataframe thead th {\n",
       "        text-align: right;\n",
       "    }\n",
       "</style>\n",
       "<table border=\"1\" class=\"dataframe\">\n",
       "  <thead>\n",
       "    <tr style=\"text-align: right;\">\n",
       "      <th></th>\n",
       "      <th>property_id</th>\n",
       "      <th>request_day_within_7d</th>\n",
       "      <th>categories_7day</th>\n",
       "    </tr>\n",
       "  </thead>\n",
       "  <tbody>\n",
       "    <tr>\n",
       "      <th>1929</th>\n",
       "      <td>ff80818151e74be30151e767997601b6</td>\n",
       "      <td>8</td>\n",
       "      <td>cat_above_5</td>\n",
       "    </tr>\n",
       "  </tbody>\n",
       "</table>\n",
       "</div>"
      ],
      "text/plain": [
       "                           property_id  request_day_within_7d categories_7day\n",
       "1929  ff80818151e74be30151e767997601b6                      8     cat_above_5"
      ]
     },
     "execution_count": 88,
     "metadata": {},
     "output_type": "execute_result"
    }
   ],
   "source": [
    "num_req_within_7d.sample()"
   ]
  },
  {
   "cell_type": "code",
   "execution_count": 89,
   "metadata": {},
   "outputs": [
    {
     "name": "stdout",
     "output_type": "stream",
     "text": [
      "(13210, 3)\n",
      "(22181, 3)\n"
     ]
    }
   ],
   "source": [
    "print(num_req_within_3d.shape)\n",
    "print(num_req_within_7d.shape)"
   ]
  },
  {
   "cell_type": "code",
   "execution_count": 90,
   "metadata": {},
   "outputs": [
    {
     "data": {
      "text/html": [
       "<div>\n",
       "<style scoped>\n",
       "    .dataframe tbody tr th:only-of-type {\n",
       "        vertical-align: middle;\n",
       "    }\n",
       "\n",
       "    .dataframe tbody tr th {\n",
       "        vertical-align: top;\n",
       "    }\n",
       "\n",
       "    .dataframe thead th {\n",
       "        text-align: right;\n",
       "    }\n",
       "</style>\n",
       "<table border=\"1\" class=\"dataframe\">\n",
       "  <thead>\n",
       "    <tr style=\"text-align: right;\">\n",
       "      <th></th>\n",
       "      <th>property_id</th>\n",
       "      <th>request_day_within_7d</th>\n",
       "      <th>categories_7day</th>\n",
       "      <th>request_day_within_3d</th>\n",
       "      <th>categories_3day</th>\n",
       "    </tr>\n",
       "  </thead>\n",
       "  <tbody>\n",
       "    <tr>\n",
       "      <th>0</th>\n",
       "      <td>ff808081469fd6e20146a5af948000ea</td>\n",
       "      <td>4</td>\n",
       "      <td>cat_3_to_5</td>\n",
       "      <td>4.0</td>\n",
       "      <td>cat_3_to_5</td>\n",
       "    </tr>\n",
       "    <tr>\n",
       "      <th>1</th>\n",
       "      <td>ff8080814702d3d10147068359d200cd</td>\n",
       "      <td>11</td>\n",
       "      <td>cat_above_5</td>\n",
       "      <td>3.0</td>\n",
       "      <td>cat_3_to_5</td>\n",
       "    </tr>\n",
       "    <tr>\n",
       "      <th>2</th>\n",
       "      <td>ff808081470c645401470fb03f5800a6</td>\n",
       "      <td>27</td>\n",
       "      <td>cat_above_5</td>\n",
       "      <td>15.0</td>\n",
       "      <td>cat_above_5</td>\n",
       "    </tr>\n",
       "  </tbody>\n",
       "</table>\n",
       "</div>"
      ],
      "text/plain": [
       "                        property_id  request_day_within_7d categories_7day  \\\n",
       "0  ff808081469fd6e20146a5af948000ea                      4      cat_3_to_5   \n",
       "1  ff8080814702d3d10147068359d200cd                     11     cat_above_5   \n",
       "2  ff808081470c645401470fb03f5800a6                     27     cat_above_5   \n",
       "\n",
       "   request_day_within_3d categories_3day  \n",
       "0                    4.0      cat_3_to_5  \n",
       "1                    3.0      cat_3_to_5  \n",
       "2                   15.0     cat_above_5  "
      ]
     },
     "execution_count": 90,
     "metadata": {},
     "output_type": "execute_result"
    }
   ],
   "source": [
    "label_data = pd.merge(num_req_within_7d, num_req_within_3d, on ='property_id' , how='left')\n",
    "\n",
    "label_data.head(3)"
   ]
  },
  {
   "cell_type": "code",
   "execution_count": 91,
   "metadata": {},
   "outputs": [
    {
     "data": {
      "text/plain": [
       "property_id                 0\n",
       "request_day_within_7d       0\n",
       "categories_7day             0\n",
       "request_day_within_3d    8971\n",
       "categories_3day          8971\n",
       "dtype: int64"
      ]
     },
     "execution_count": 91,
     "metadata": {},
     "output_type": "execute_result"
    }
   ],
   "source": [
    "label_data.isna().sum()"
   ]
  },
  {
   "cell_type": "code",
   "execution_count": 92,
   "metadata": {},
   "outputs": [
    {
     "data": {
      "text/html": [
       "<div>\n",
       "<style scoped>\n",
       "    .dataframe tbody tr th:only-of-type {\n",
       "        vertical-align: middle;\n",
       "    }\n",
       "\n",
       "    .dataframe tbody tr th {\n",
       "        vertical-align: top;\n",
       "    }\n",
       "\n",
       "    .dataframe thead th {\n",
       "        text-align: right;\n",
       "    }\n",
       "</style>\n",
       "<table border=\"1\" class=\"dataframe\">\n",
       "  <thead>\n",
       "    <tr style=\"text-align: right;\">\n",
       "      <th></th>\n",
       "      <th>property_id</th>\n",
       "      <th>type</th>\n",
       "      <th>activation_date</th>\n",
       "      <th>bathroom</th>\n",
       "      <th>floor</th>\n",
       "      <th>total_floor</th>\n",
       "      <th>furnishing</th>\n",
       "      <th>gym</th>\n",
       "      <th>latitude</th>\n",
       "      <th>longitude</th>\n",
       "      <th>lease_type</th>\n",
       "      <th>lift</th>\n",
       "      <th>locality</th>\n",
       "      <th>parking</th>\n",
       "      <th>property_age</th>\n",
       "      <th>property_size</th>\n",
       "      <th>swimming_pool</th>\n",
       "      <th>pin_code</th>\n",
       "      <th>rent</th>\n",
       "      <th>deposit</th>\n",
       "      <th>building_type</th>\n",
       "      <th>photo_count</th>\n",
       "    </tr>\n",
       "  </thead>\n",
       "  <tbody>\n",
       "    <tr>\n",
       "      <th>0</th>\n",
       "      <td>ff808081469fd6e20146a5af948000ea</td>\n",
       "      <td>BHK2</td>\n",
       "      <td>2017-03-09 14:36:00</td>\n",
       "      <td>1</td>\n",
       "      <td>3</td>\n",
       "      <td>4.0</td>\n",
       "      <td>SEMI_FURNISHED</td>\n",
       "      <td>1</td>\n",
       "      <td>12.876174</td>\n",
       "      <td>77.596571</td>\n",
       "      <td>FAMILY</td>\n",
       "      <td>1</td>\n",
       "      <td>Hulimavu</td>\n",
       "      <td>BOTH</td>\n",
       "      <td>2</td>\n",
       "      <td>850</td>\n",
       "      <td>1</td>\n",
       "      <td>560076.0</td>\n",
       "      <td>12000</td>\n",
       "      <td>120000</td>\n",
       "      <td>AP</td>\n",
       "      <td>7</td>\n",
       "    </tr>\n",
       "    <tr>\n",
       "      <th>1</th>\n",
       "      <td>ff8080814702d3d10147068359d200cd</td>\n",
       "      <td>BHK2</td>\n",
       "      <td>2017-03-07 12:02:00</td>\n",
       "      <td>2</td>\n",
       "      <td>4</td>\n",
       "      <td>11.0</td>\n",
       "      <td>SEMI_FURNISHED</td>\n",
       "      <td>1</td>\n",
       "      <td>13.018444</td>\n",
       "      <td>77.678122</td>\n",
       "      <td>FAMILY</td>\n",
       "      <td>1</td>\n",
       "      <td>Ramamurthy Nagar</td>\n",
       "      <td>BOTH</td>\n",
       "      <td>1</td>\n",
       "      <td>1233</td>\n",
       "      <td>1</td>\n",
       "      <td>560016.0</td>\n",
       "      <td>20000</td>\n",
       "      <td>150000</td>\n",
       "      <td>AP</td>\n",
       "      <td>0</td>\n",
       "    </tr>\n",
       "    <tr>\n",
       "      <th>2</th>\n",
       "      <td>ff808081470c645401470fb03f5800a6</td>\n",
       "      <td>BHK2</td>\n",
       "      <td>2017-03-10 13:43:00</td>\n",
       "      <td>2</td>\n",
       "      <td>0</td>\n",
       "      <td>4.0</td>\n",
       "      <td>NOT_FURNISHED</td>\n",
       "      <td>1</td>\n",
       "      <td>12.975072</td>\n",
       "      <td>77.665865</td>\n",
       "      <td>ANYONE</td>\n",
       "      <td>1</td>\n",
       "      <td>GM Palya</td>\n",
       "      <td>FOUR_WHEELER</td>\n",
       "      <td>0</td>\n",
       "      <td>1200</td>\n",
       "      <td>0</td>\n",
       "      <td>560075.0</td>\n",
       "      <td>15000</td>\n",
       "      <td>75000</td>\n",
       "      <td>AP</td>\n",
       "      <td>12</td>\n",
       "    </tr>\n",
       "  </tbody>\n",
       "</table>\n",
       "</div>"
      ],
      "text/plain": [
       "                        property_id  type     activation_date  bathroom  \\\n",
       "0  ff808081469fd6e20146a5af948000ea  BHK2 2017-03-09 14:36:00         1   \n",
       "1  ff8080814702d3d10147068359d200cd  BHK2 2017-03-07 12:02:00         2   \n",
       "2  ff808081470c645401470fb03f5800a6  BHK2 2017-03-10 13:43:00         2   \n",
       "\n",
       "   floor  total_floor      furnishing  gym   latitude  longitude lease_type  \\\n",
       "0      3          4.0  SEMI_FURNISHED    1  12.876174  77.596571     FAMILY   \n",
       "1      4         11.0  SEMI_FURNISHED    1  13.018444  77.678122     FAMILY   \n",
       "2      0          4.0   NOT_FURNISHED    1  12.975072  77.665865     ANYONE   \n",
       "\n",
       "   lift          locality       parking  property_age  property_size  \\\n",
       "0     1          Hulimavu          BOTH             2            850   \n",
       "1     1  Ramamurthy Nagar          BOTH             1           1233   \n",
       "2     1          GM Palya  FOUR_WHEELER             0           1200   \n",
       "\n",
       "   swimming_pool  pin_code   rent  deposit building_type  photo_count  \n",
       "0              1  560076.0  12000   120000            AP            7  \n",
       "1              1  560016.0  20000   150000            AP            0  \n",
       "2              0  560075.0  15000    75000            AP           12  "
      ]
     },
     "execution_count": 92,
     "metadata": {},
     "output_type": "execute_result"
    }
   ],
   "source": [
    "data_with_pics = pd.merge(df, df2, on ='property_id', how = 'left')\n",
    "data_with_pics.head(3)"
   ]
  },
  {
   "cell_type": "code",
   "execution_count": 93,
   "metadata": {},
   "outputs": [
    {
     "data": {
      "text/html": [
       "<div>\n",
       "<style scoped>\n",
       "    .dataframe tbody tr th:only-of-type {\n",
       "        vertical-align: middle;\n",
       "    }\n",
       "\n",
       "    .dataframe tbody tr th {\n",
       "        vertical-align: top;\n",
       "    }\n",
       "\n",
       "    .dataframe thead th {\n",
       "        text-align: right;\n",
       "    }\n",
       "</style>\n",
       "<table border=\"1\" class=\"dataframe\">\n",
       "  <thead>\n",
       "    <tr style=\"text-align: right;\">\n",
       "      <th></th>\n",
       "      <th>property_id</th>\n",
       "      <th>type</th>\n",
       "      <th>activation_date</th>\n",
       "      <th>bathroom</th>\n",
       "      <th>floor</th>\n",
       "      <th>total_floor</th>\n",
       "      <th>furnishing</th>\n",
       "      <th>gym</th>\n",
       "      <th>latitude</th>\n",
       "      <th>longitude</th>\n",
       "      <th>lease_type</th>\n",
       "      <th>lift</th>\n",
       "      <th>locality</th>\n",
       "      <th>parking</th>\n",
       "      <th>property_age</th>\n",
       "      <th>property_size</th>\n",
       "      <th>swimming_pool</th>\n",
       "      <th>pin_code</th>\n",
       "      <th>rent</th>\n",
       "      <th>deposit</th>\n",
       "      <th>building_type</th>\n",
       "      <th>photo_count</th>\n",
       "      <th>request_day_within_7d</th>\n",
       "      <th>categories_7day</th>\n",
       "      <th>request_day_within_3d</th>\n",
       "      <th>categories_3day</th>\n",
       "    </tr>\n",
       "  </thead>\n",
       "  <tbody>\n",
       "    <tr>\n",
       "      <th>0</th>\n",
       "      <td>ff808081469fd6e20146a5af948000ea</td>\n",
       "      <td>BHK2</td>\n",
       "      <td>2017-03-09 14:36:00</td>\n",
       "      <td>1</td>\n",
       "      <td>3</td>\n",
       "      <td>4.0</td>\n",
       "      <td>SEMI_FURNISHED</td>\n",
       "      <td>1</td>\n",
       "      <td>12.876174</td>\n",
       "      <td>77.596571</td>\n",
       "      <td>FAMILY</td>\n",
       "      <td>1</td>\n",
       "      <td>Hulimavu</td>\n",
       "      <td>BOTH</td>\n",
       "      <td>2</td>\n",
       "      <td>850</td>\n",
       "      <td>1</td>\n",
       "      <td>560076.0</td>\n",
       "      <td>12000</td>\n",
       "      <td>120000</td>\n",
       "      <td>AP</td>\n",
       "      <td>7</td>\n",
       "      <td>4</td>\n",
       "      <td>cat_3_to_5</td>\n",
       "      <td>4.0</td>\n",
       "      <td>cat_3_to_5</td>\n",
       "    </tr>\n",
       "    <tr>\n",
       "      <th>1</th>\n",
       "      <td>ff8080814702d3d10147068359d200cd</td>\n",
       "      <td>BHK2</td>\n",
       "      <td>2017-03-07 12:02:00</td>\n",
       "      <td>2</td>\n",
       "      <td>4</td>\n",
       "      <td>11.0</td>\n",
       "      <td>SEMI_FURNISHED</td>\n",
       "      <td>1</td>\n",
       "      <td>13.018444</td>\n",
       "      <td>77.678122</td>\n",
       "      <td>FAMILY</td>\n",
       "      <td>1</td>\n",
       "      <td>Ramamurthy Nagar</td>\n",
       "      <td>BOTH</td>\n",
       "      <td>1</td>\n",
       "      <td>1233</td>\n",
       "      <td>1</td>\n",
       "      <td>560016.0</td>\n",
       "      <td>20000</td>\n",
       "      <td>150000</td>\n",
       "      <td>AP</td>\n",
       "      <td>0</td>\n",
       "      <td>11</td>\n",
       "      <td>cat_above_5</td>\n",
       "      <td>3.0</td>\n",
       "      <td>cat_3_to_5</td>\n",
       "    </tr>\n",
       "    <tr>\n",
       "      <th>2</th>\n",
       "      <td>ff808081470c645401470fb03f5800a6</td>\n",
       "      <td>BHK2</td>\n",
       "      <td>2017-03-10 13:43:00</td>\n",
       "      <td>2</td>\n",
       "      <td>0</td>\n",
       "      <td>4.0</td>\n",
       "      <td>NOT_FURNISHED</td>\n",
       "      <td>1</td>\n",
       "      <td>12.975072</td>\n",
       "      <td>77.665865</td>\n",
       "      <td>ANYONE</td>\n",
       "      <td>1</td>\n",
       "      <td>GM Palya</td>\n",
       "      <td>FOUR_WHEELER</td>\n",
       "      <td>0</td>\n",
       "      <td>1200</td>\n",
       "      <td>0</td>\n",
       "      <td>560075.0</td>\n",
       "      <td>15000</td>\n",
       "      <td>75000</td>\n",
       "      <td>AP</td>\n",
       "      <td>12</td>\n",
       "      <td>27</td>\n",
       "      <td>cat_above_5</td>\n",
       "      <td>15.0</td>\n",
       "      <td>cat_above_5</td>\n",
       "    </tr>\n",
       "  </tbody>\n",
       "</table>\n",
       "</div>"
      ],
      "text/plain": [
       "                        property_id  type     activation_date  bathroom  \\\n",
       "0  ff808081469fd6e20146a5af948000ea  BHK2 2017-03-09 14:36:00         1   \n",
       "1  ff8080814702d3d10147068359d200cd  BHK2 2017-03-07 12:02:00         2   \n",
       "2  ff808081470c645401470fb03f5800a6  BHK2 2017-03-10 13:43:00         2   \n",
       "\n",
       "   floor  total_floor      furnishing  gym   latitude  longitude lease_type  \\\n",
       "0      3          4.0  SEMI_FURNISHED    1  12.876174  77.596571     FAMILY   \n",
       "1      4         11.0  SEMI_FURNISHED    1  13.018444  77.678122     FAMILY   \n",
       "2      0          4.0   NOT_FURNISHED    1  12.975072  77.665865     ANYONE   \n",
       "\n",
       "   lift          locality       parking  property_age  property_size  \\\n",
       "0     1          Hulimavu          BOTH             2            850   \n",
       "1     1  Ramamurthy Nagar          BOTH             1           1233   \n",
       "2     1          GM Palya  FOUR_WHEELER             0           1200   \n",
       "\n",
       "   swimming_pool  pin_code   rent  deposit building_type  photo_count  \\\n",
       "0              1  560076.0  12000   120000            AP            7   \n",
       "1              1  560016.0  20000   150000            AP            0   \n",
       "2              0  560075.0  15000    75000            AP           12   \n",
       "\n",
       "   request_day_within_7d categories_7day  request_day_within_3d  \\\n",
       "0                      4      cat_3_to_5                    4.0   \n",
       "1                     11     cat_above_5                    3.0   \n",
       "2                     27     cat_above_5                   15.0   \n",
       "\n",
       "  categories_3day  \n",
       "0      cat_3_to_5  \n",
       "1      cat_3_to_5  \n",
       "2     cat_above_5  "
      ]
     },
     "execution_count": 93,
     "metadata": {},
     "output_type": "execute_result"
    }
   ],
   "source": [
    "dataset = pd.merge(data_with_pics, label_data, on ='property_id')\n",
    "dataset.head(3)"
   ]
  },
  {
   "cell_type": "code",
   "execution_count": 94,
   "metadata": {},
   "outputs": [
    {
     "data": {
      "text/plain": [
       "property_id                 0\n",
       "type                        0\n",
       "activation_date             0\n",
       "bathroom                    0\n",
       "floor                       0\n",
       "                         ... \n",
       "photo_count                 0\n",
       "request_day_within_7d       0\n",
       "categories_7day             0\n",
       "request_day_within_3d    8971\n",
       "categories_3day          8971\n",
       "Length: 26, dtype: int64"
      ]
     },
     "execution_count": 94,
     "metadata": {},
     "output_type": "execute_result"
    }
   ],
   "source": [
    "dataset.isna().sum()"
   ]
  },
  {
   "cell_type": "code",
   "execution_count": null,
   "metadata": {},
   "outputs": [],
   "source": []
  },
  {
   "cell_type": "code",
   "execution_count": null,
   "metadata": {},
   "outputs": [],
   "source": []
  },
  {
   "cell_type": "code",
   "execution_count": null,
   "metadata": {},
   "outputs": [],
   "source": []
  },
  {
   "cell_type": "code",
   "execution_count": null,
   "metadata": {},
   "outputs": [],
   "source": []
  },
  {
   "cell_type": "code",
   "execution_count": null,
   "metadata": {},
   "outputs": [],
   "source": []
  },
  {
   "cell_type": "code",
   "execution_count": null,
   "metadata": {},
   "outputs": [],
   "source": []
  },
  {
   "cell_type": "code",
   "execution_count": null,
   "metadata": {},
   "outputs": [],
   "source": []
  },
  {
   "cell_type": "code",
   "execution_count": null,
   "metadata": {},
   "outputs": [],
   "source": []
  },
  {
   "cell_type": "code",
   "execution_count": null,
   "metadata": {},
   "outputs": [],
   "source": []
  },
  {
   "cell_type": "code",
   "execution_count": null,
   "metadata": {},
   "outputs": [],
   "source": []
  },
  {
   "cell_type": "code",
   "execution_count": null,
   "metadata": {},
   "outputs": [],
   "source": []
  },
  {
   "cell_type": "code",
   "execution_count": null,
   "metadata": {},
   "outputs": [],
   "source": []
  },
  {
   "cell_type": "code",
   "execution_count": null,
   "metadata": {},
   "outputs": [],
   "source": []
  },
  {
   "cell_type": "code",
   "execution_count": null,
   "metadata": {},
   "outputs": [],
   "source": []
  },
  {
   "cell_type": "code",
   "execution_count": null,
   "metadata": {},
   "outputs": [],
   "source": []
  },
  {
   "cell_type": "code",
   "execution_count": null,
   "metadata": {},
   "outputs": [],
   "source": []
  },
  {
   "cell_type": "code",
   "execution_count": null,
   "metadata": {},
   "outputs": [],
   "source": []
  },
  {
   "cell_type": "code",
   "execution_count": null,
   "metadata": {},
   "outputs": [],
   "source": []
  },
  {
   "cell_type": "code",
   "execution_count": null,
   "metadata": {},
   "outputs": [],
   "source": []
  },
  {
   "cell_type": "code",
   "execution_count": null,
   "metadata": {},
   "outputs": [],
   "source": []
  },
  {
   "cell_type": "code",
   "execution_count": null,
   "metadata": {},
   "outputs": [],
   "source": []
  },
  {
   "cell_type": "code",
   "execution_count": null,
   "metadata": {},
   "outputs": [],
   "source": []
  },
  {
   "cell_type": "code",
   "execution_count": null,
   "metadata": {},
   "outputs": [],
   "source": []
  },
  {
   "cell_type": "code",
   "execution_count": null,
   "metadata": {},
   "outputs": [],
   "source": []
  },
  {
   "cell_type": "code",
   "execution_count": null,
   "metadata": {},
   "outputs": [],
   "source": []
  },
  {
   "cell_type": "code",
   "execution_count": null,
   "metadata": {},
   "outputs": [],
   "source": []
  },
  {
   "cell_type": "code",
   "execution_count": null,
   "metadata": {},
   "outputs": [],
   "source": []
  },
  {
   "cell_type": "code",
   "execution_count": null,
   "metadata": {},
   "outputs": [],
   "source": []
  },
  {
   "cell_type": "code",
   "execution_count": null,
   "metadata": {},
   "outputs": [],
   "source": []
  },
  {
   "cell_type": "code",
   "execution_count": null,
   "metadata": {},
   "outputs": [],
   "source": []
  },
  {
   "cell_type": "code",
   "execution_count": null,
   "metadata": {},
   "outputs": [],
   "source": []
  },
  {
   "cell_type": "code",
   "execution_count": null,
   "metadata": {},
   "outputs": [],
   "source": []
  },
  {
   "cell_type": "code",
   "execution_count": null,
   "metadata": {},
   "outputs": [],
   "source": []
  },
  {
   "cell_type": "code",
   "execution_count": null,
   "metadata": {},
   "outputs": [],
   "source": []
  },
  {
   "cell_type": "code",
   "execution_count": null,
   "metadata": {},
   "outputs": [],
   "source": []
  }
 ],
 "metadata": {
  "kernelspec": {
   "display_name": "property",
   "language": "python",
   "name": "python3"
  },
  "language_info": {
   "codemirror_mode": {
    "name": "ipython",
    "version": 3
   },
   "file_extension": ".py",
   "mimetype": "text/x-python",
   "name": "python",
   "nbconvert_exporter": "python",
   "pygments_lexer": "ipython3",
   "version": "3.8.19"
  }
 },
 "nbformat": 4,
 "nbformat_minor": 2
}
