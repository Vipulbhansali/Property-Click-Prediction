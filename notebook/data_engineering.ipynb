{
 "cells": [
  {
   "cell_type": "code",
   "execution_count": 42,
   "metadata": {},
   "outputs": [],
   "source": [
    "import pandas as pd\n",
    "import numpy as np\n",
    "import seaborn as sns\n",
    "import matplotlib.pyplot as plt\n",
    "import json\n",
    "\n",
    "\n"
   ]
  },
  {
   "cell_type": "code",
   "execution_count": 43,
   "metadata": {},
   "outputs": [],
   "source": [
    "df = pd.read_csv(r'C:\\Users\\Vipul\\Property-Click-Prediction\\notebook\\datasets\\property_data_set.csv',parse_dates = ['activation_date'], dayfirst=True)\n",
    "\n",
    "df1 = pd.read_csv(r\"C:\\Users\\Vipul\\Property-Click-Prediction\\notebook\\datasets\\property_interactions.csv\",parse_dates = ['request_date'] , dayfirst=True)\n",
    "\n",
    "df2 = pd.read_table(r\"C:\\Users\\Vipul\\Property-Click-Prediction\\notebook\\datasets\\property_photos.tsv\")"
   ]
  },
  {
   "cell_type": "code",
   "execution_count": 44,
   "metadata": {},
   "outputs": [],
   "source": [
    "pd.set_option('display.max_columns', 50)\n",
    "pd.set_option('display.max_rows', 10)"
   ]
  },
  {
   "cell_type": "code",
   "execution_count": 45,
   "metadata": {},
   "outputs": [
    {
     "data": {
      "text/html": [
       "<div>\n",
       "<style scoped>\n",
       "    .dataframe tbody tr th:only-of-type {\n",
       "        vertical-align: middle;\n",
       "    }\n",
       "\n",
       "    .dataframe tbody tr th {\n",
       "        vertical-align: top;\n",
       "    }\n",
       "\n",
       "    .dataframe thead th {\n",
       "        text-align: right;\n",
       "    }\n",
       "</style>\n",
       "<table border=\"1\" class=\"dataframe\">\n",
       "  <thead>\n",
       "    <tr style=\"text-align: right;\">\n",
       "      <th></th>\n",
       "      <th>property_id</th>\n",
       "      <th>type</th>\n",
       "      <th>activation_date</th>\n",
       "      <th>bathroom</th>\n",
       "      <th>floor</th>\n",
       "      <th>total_floor</th>\n",
       "      <th>furnishing</th>\n",
       "      <th>gym</th>\n",
       "      <th>latitude</th>\n",
       "      <th>longitude</th>\n",
       "      <th>lease_type</th>\n",
       "      <th>lift</th>\n",
       "      <th>locality</th>\n",
       "      <th>parking</th>\n",
       "      <th>property_age</th>\n",
       "      <th>property_size</th>\n",
       "      <th>swimming_pool</th>\n",
       "      <th>pin_code</th>\n",
       "      <th>rent</th>\n",
       "      <th>deposit</th>\n",
       "      <th>building_type</th>\n",
       "    </tr>\n",
       "  </thead>\n",
       "  <tbody>\n",
       "    <tr>\n",
       "      <th>18311</th>\n",
       "      <td>ff8081815a833856015a8365ff83167b</td>\n",
       "      <td>BHK1</td>\n",
       "      <td>2017-02-28 12:45:00</td>\n",
       "      <td>1</td>\n",
       "      <td>0</td>\n",
       "      <td>2.0</td>\n",
       "      <td>SEMI_FURNISHED</td>\n",
       "      <td>0</td>\n",
       "      <td>12.919365</td>\n",
       "      <td>77.541982</td>\n",
       "      <td>ANYONE</td>\n",
       "      <td>0</td>\n",
       "      <td>Ittamadu</td>\n",
       "      <td>TWO_WHEELER</td>\n",
       "      <td>1</td>\n",
       "      <td>350</td>\n",
       "      <td>0</td>\n",
       "      <td>560085.0</td>\n",
       "      <td>5500</td>\n",
       "      <td>40000</td>\n",
       "      <td>IF</td>\n",
       "    </tr>\n",
       "    <tr>\n",
       "      <th>6994</th>\n",
       "      <td>ff808181588627250158868455b21498</td>\n",
       "      <td>BHK1</td>\n",
       "      <td>2017-03-08 11:55:00</td>\n",
       "      <td>1</td>\n",
       "      <td>1</td>\n",
       "      <td>1.0</td>\n",
       "      <td>SEMI_FURNISHED</td>\n",
       "      <td>0</td>\n",
       "      <td>12.867876</td>\n",
       "      <td>77.568272</td>\n",
       "      <td>ANYONE</td>\n",
       "      <td>0</td>\n",
       "      <td>JP Nagar</td>\n",
       "      <td>TWO_WHEELER</td>\n",
       "      <td>0</td>\n",
       "      <td>500</td>\n",
       "      <td>0</td>\n",
       "      <td>560062.0</td>\n",
       "      <td>6500</td>\n",
       "      <td>65000</td>\n",
       "      <td>IF</td>\n",
       "    </tr>\n",
       "  </tbody>\n",
       "</table>\n",
       "</div>"
      ],
      "text/plain": [
       "                            property_id  type     activation_date  bathroom  \\\n",
       "18311  ff8081815a833856015a8365ff83167b  BHK1 2017-02-28 12:45:00         1   \n",
       "6994   ff808181588627250158868455b21498  BHK1 2017-03-08 11:55:00         1   \n",
       "\n",
       "       floor  total_floor      furnishing  gym   latitude  longitude  \\\n",
       "18311      0          2.0  SEMI_FURNISHED    0  12.919365  77.541982   \n",
       "6994       1          1.0  SEMI_FURNISHED    0  12.867876  77.568272   \n",
       "\n",
       "      lease_type  lift  locality      parking  property_age  property_size  \\\n",
       "18311     ANYONE     0  Ittamadu  TWO_WHEELER             1            350   \n",
       "6994      ANYONE     0  JP Nagar  TWO_WHEELER             0            500   \n",
       "\n",
       "       swimming_pool  pin_code  rent  deposit building_type  \n",
       "18311              0  560085.0  5500    40000            IF  \n",
       "6994               0  560062.0  6500    65000            IF  "
      ]
     },
     "execution_count": 45,
     "metadata": {},
     "output_type": "execute_result"
    }
   ],
   "source": [
    "df.sample(2)"
   ]
  },
  {
   "cell_type": "code",
   "execution_count": 46,
   "metadata": {},
   "outputs": [
    {
     "name": "stdout",
     "output_type": "stream",
     "text": [
      "Property data Shape (28888, 21)\n",
      "Pics data Shape (170611, 2)\n",
      "Interaction data Shape (28888, 2)\n"
     ]
    }
   ],
   "source": [
    "print('Property data Shape', df.shape)\n",
    "print('Pics data Shape',df1.shape)\n",
    "print('Interaction data Shape',df2.shape)"
   ]
  },
  {
   "cell_type": "code",
   "execution_count": 47,
   "metadata": {},
   "outputs": [
    {
     "data": {
      "text/html": [
       "<div>\n",
       "<style scoped>\n",
       "    .dataframe tbody tr th:only-of-type {\n",
       "        vertical-align: middle;\n",
       "    }\n",
       "\n",
       "    .dataframe tbody tr th {\n",
       "        vertical-align: top;\n",
       "    }\n",
       "\n",
       "    .dataframe thead th {\n",
       "        text-align: right;\n",
       "    }\n",
       "</style>\n",
       "<table border=\"1\" class=\"dataframe\">\n",
       "  <thead>\n",
       "    <tr style=\"text-align: right;\">\n",
       "      <th></th>\n",
       "      <th>property_id</th>\n",
       "      <th>request_date</th>\n",
       "    </tr>\n",
       "  </thead>\n",
       "  <tbody>\n",
       "    <tr>\n",
       "      <th>133815</th>\n",
       "      <td>ff8081815aae6093015aaeaf7017132c</td>\n",
       "      <td>2017-03-10 16:40:08</td>\n",
       "    </tr>\n",
       "    <tr>\n",
       "      <th>84554</th>\n",
       "      <td>ff8081815a30d446015a35d18c4233e6</td>\n",
       "      <td>2017-02-14 19:17:01</td>\n",
       "    </tr>\n",
       "    <tr>\n",
       "      <th>5131</th>\n",
       "      <td>ff8081814db00698014db411818c1667</td>\n",
       "      <td>2017-03-26 15:26:02</td>\n",
       "    </tr>\n",
       "  </tbody>\n",
       "</table>\n",
       "</div>"
      ],
      "text/plain": [
       "                             property_id         request_date\n",
       "133815  ff8081815aae6093015aaeaf7017132c  2017-03-10 16:40:08\n",
       "84554   ff8081815a30d446015a35d18c4233e6  2017-02-14 19:17:01\n",
       "5131    ff8081814db00698014db411818c1667  2017-03-26 15:26:02"
      ]
     },
     "execution_count": 47,
     "metadata": {},
     "output_type": "execute_result"
    }
   ],
   "source": [
    "df1.sample(3)"
   ]
  },
  {
   "cell_type": "code",
   "execution_count": 48,
   "metadata": {},
   "outputs": [
    {
     "data": {
      "text/html": [
       "<div>\n",
       "<style scoped>\n",
       "    .dataframe tbody tr th:only-of-type {\n",
       "        vertical-align: middle;\n",
       "    }\n",
       "\n",
       "    .dataframe tbody tr th {\n",
       "        vertical-align: top;\n",
       "    }\n",
       "\n",
       "    .dataframe thead th {\n",
       "        text-align: right;\n",
       "    }\n",
       "</style>\n",
       "<table border=\"1\" class=\"dataframe\">\n",
       "  <thead>\n",
       "    <tr style=\"text-align: right;\">\n",
       "      <th></th>\n",
       "      <th>property_id</th>\n",
       "      <th>photo_urls</th>\n",
       "    </tr>\n",
       "  </thead>\n",
       "  <tbody>\n",
       "    <tr>\n",
       "      <th>22178</th>\n",
       "      <td>ff8081815ab73de0015ab7860e8e0d1f</td>\n",
       "      <td>[{\\title\\\":\\\"\\\",\\\"name\\\":\\\"files[]\\\",\\\"imagesM...</td>\n",
       "    </tr>\n",
       "    <tr>\n",
       "      <th>20782</th>\n",
       "      <td>ff8081815aa4011f015aa71702ea781c</td>\n",
       "      <td>[{\\title\\\":\\\"\\\",\\\"name\\\":\\\"files[]\\\",\\\"imagesM...</td>\n",
       "    </tr>\n",
       "  </tbody>\n",
       "</table>\n",
       "</div>"
      ],
      "text/plain": [
       "                            property_id  \\\n",
       "22178  ff8081815ab73de0015ab7860e8e0d1f   \n",
       "20782  ff8081815aa4011f015aa71702ea781c   \n",
       "\n",
       "                                              photo_urls  \n",
       "22178  [{\\title\\\":\\\"\\\",\\\"name\\\":\\\"files[]\\\",\\\"imagesM...  \n",
       "20782  [{\\title\\\":\\\"\\\",\\\"name\\\":\\\"files[]\\\",\\\"imagesM...  "
      ]
     },
     "execution_count": 48,
     "metadata": {},
     "output_type": "execute_result"
    }
   ],
   "source": [
    "df2.sample(2)"
   ]
  },
  {
   "cell_type": "markdown",
   "metadata": {},
   "source": [
    "# HANDLING PICS DATASET"
   ]
  },
  {
   "cell_type": "code",
   "execution_count": 49,
   "metadata": {},
   "outputs": [
    {
     "data": {
      "text/html": [
       "<div>\n",
       "<style scoped>\n",
       "    .dataframe tbody tr th:only-of-type {\n",
       "        vertical-align: middle;\n",
       "    }\n",
       "\n",
       "    .dataframe tbody tr th {\n",
       "        vertical-align: top;\n",
       "    }\n",
       "\n",
       "    .dataframe thead th {\n",
       "        text-align: right;\n",
       "    }\n",
       "</style>\n",
       "<table border=\"1\" class=\"dataframe\">\n",
       "  <thead>\n",
       "    <tr style=\"text-align: right;\">\n",
       "      <th></th>\n",
       "      <th>property_id</th>\n",
       "      <th>photo_urls</th>\n",
       "    </tr>\n",
       "  </thead>\n",
       "  <tbody>\n",
       "    <tr>\n",
       "      <th>0</th>\n",
       "      <td>ff808081469fd6e20146a5af948000ea</td>\n",
       "      <td>[{\\title\\\":\\\"Balcony\\\",\\\"name\\\":\\\"IMG_20131006...</td>\n",
       "    </tr>\n",
       "    <tr>\n",
       "      <th>1</th>\n",
       "      <td>ff8080814702d3d10147068359d200cd</td>\n",
       "      <td>NaN</td>\n",
       "    </tr>\n",
       "    <tr>\n",
       "      <th>2</th>\n",
       "      <td>ff808081470c645401470fb03f5800a6</td>\n",
       "      <td>[{\\title\\\":\\\"Bedroom\\\",\\\"name\\\":\\\"ff808081470c...</td>\n",
       "    </tr>\n",
       "    <tr>\n",
       "      <th>3</th>\n",
       "      <td>ff808081470c6454014715eaa5960281</td>\n",
       "      <td>[{\\title\\\":\\\"Bedroom\\\",\\\"name\\\":\\\"Screenshot_7...</td>\n",
       "    </tr>\n",
       "    <tr>\n",
       "      <th>4</th>\n",
       "      <td>ff808081474aa867014771a0298f0aa6</td>\n",
       "      <td>[{\\title\\\":\\\"Other\\\",\\\"name\\\":\\\"ff808081474aa8...</td>\n",
       "    </tr>\n",
       "  </tbody>\n",
       "</table>\n",
       "</div>"
      ],
      "text/plain": [
       "                        property_id  \\\n",
       "0  ff808081469fd6e20146a5af948000ea   \n",
       "1  ff8080814702d3d10147068359d200cd   \n",
       "2  ff808081470c645401470fb03f5800a6   \n",
       "3  ff808081470c6454014715eaa5960281   \n",
       "4  ff808081474aa867014771a0298f0aa6   \n",
       "\n",
       "                                          photo_urls  \n",
       "0  [{\\title\\\":\\\"Balcony\\\",\\\"name\\\":\\\"IMG_20131006...  \n",
       "1                                                NaN  \n",
       "2  [{\\title\\\":\\\"Bedroom\\\",\\\"name\\\":\\\"ff808081470c...  \n",
       "3  [{\\title\\\":\\\"Bedroom\\\",\\\"name\\\":\\\"Screenshot_7...  \n",
       "4  [{\\title\\\":\\\"Other\\\",\\\"name\\\":\\\"ff808081474aa8...  "
      ]
     },
     "execution_count": 49,
     "metadata": {},
     "output_type": "execute_result"
    }
   ],
   "source": [
    "df2.head(5)"
   ]
  },
  {
   "cell_type": "code",
   "execution_count": 50,
   "metadata": {},
   "outputs": [
    {
     "data": {
      "text/plain": [
       "(28888, 2)"
      ]
     },
     "execution_count": 50,
     "metadata": {},
     "output_type": "execute_result"
    }
   ],
   "source": [
    "df2.shape"
   ]
  },
  {
   "cell_type": "code",
   "execution_count": 51,
   "metadata": {},
   "outputs": [
    {
     "data": {
      "text/plain": [
       "property_id    object\n",
       "photo_urls     object\n",
       "dtype: object"
      ]
     },
     "execution_count": 51,
     "metadata": {},
     "output_type": "execute_result"
    }
   ],
   "source": [
    "df2.dtypes"
   ]
  },
  {
   "cell_type": "code",
   "execution_count": 52,
   "metadata": {},
   "outputs": [
    {
     "data": {
      "text/plain": [
       "property_id        0\n",
       "photo_urls     11022\n",
       "dtype: int64"
      ]
     },
     "execution_count": 52,
     "metadata": {},
     "output_type": "execute_result"
    }
   ],
   "source": [
    "df2.isna().sum()"
   ]
  },
  {
   "cell_type": "code",
   "execution_count": 53,
   "metadata": {},
   "outputs": [
    {
     "name": "stdout",
     "output_type": "stream",
     "text": [
      "Before Correction: \n",
      "\n",
      " [{\\title\\\":\\\"Balcony\\\",\\\"name\\\":\\\"IMG_20131006_120837.jpg\\\",\\\"imagesMap\\\":{\\\"original\\\":\\\"ff808081469fd6e20146a5af948000ea_65149_original.jpg\\\",\\\"thumbnail\\\":\\\"ff808081469fd6e20146a5af948000ea_65149_thumbnail.jpg\\\",\\\"medium\\\":\\\"ff808081469fd6e20146a5af948000ea_65149_medium.jpg\\\",\\\"large\\\":\\\"ff808081469fd6e20146a5af948000ea_65149_large.jpg\\\"},\\\"displayPic\\\":false},{\\\"title\\\":\\\"Bathroom\\\",\\\"name\\\":\\\"IMG_20131006_120734.jpg\\\",\\\"imagesMap\\\":{\\\"original\\\":\\\"ff808081469fd6e20146a5af948000ea_63511_original.jpg\\\",\\\"thumbnail\\\":\\\"ff808081469fd6e20146a5af948000ea_63511_thumbnail.jpg\\\",\\\"medium\\\":\\\"ff808081469fd6e20146a5af948000ea_63511_medium.jpg\\\",\\\"large\\\":\\\"ff808081469fd6e20146a5af948000ea_63511_large.jpg\\\"},\\\"displayPic\\\":false},{\\\"title\\\":\\\"Bedroom\\\",\\\"name\\\":\\\"IMG_20131006_120643.jpg\\\",\\\"imagesMap\\\":{\\\"original\\\":\\\"ff808081469fd6e20146a5af948000ea_16708_original.jpg\\\",\\\"thumbnail\\\":\\\"ff808081469fd6e20146a5af948000ea_16708_thumbnail.jpg\\\",\\\"medium\\\":\\\"ff808081469fd6e20146a5af948000ea_16708_medium.jpg\\\",\\\"large\\\":\\\"ff808081469fd6e20146a5af948000ea_16708_large.jpg\\\"},\\\"displayPic\\\":false},{\\\"title\\\":\\\"Hall\\\",\\\"name\\\":\\\"IMG_20131006_120745.jpg\\\",\\\"imagesMap\\\":{\\\"original\\\":\\\"ff808081469fd6e20146a5af948000ea_69828_original.jpg\\\",\\\"thumbnail\\\":\\\"ff808081469fd6e20146a5af948000ea_69828_thumbnail.jpg\\\",\\\"medium\\\":\\\"ff808081469fd6e20146a5af948000ea_69828_medium.jpg\\\",\\\"large\\\":\\\"ff808081469fd6e20146a5af948000ea_69828_large.jpg\\\"},\\\"displayPic\\\":false},{\\\"title\\\":\\\"Hall\\\",\\\"name\\\":\\\"IMG_20131006_120919.jpg\\\",\\\"imagesMap\\\":{\\\"original\\\":\\\"ff808081469fd6e20146a5af948000ea_32711_original.jpg\\\",\\\"thumbnail\\\":\\\"ff808081469fd6e20146a5af948000ea_32711_thumbnail.jpg\\\",\\\"medium\\\":\\\"ff808081469fd6e20146a5af948000ea_32711_medium.jpg\\\",\\\"large\\\":\\\"ff808081469fd6e20146a5af948000ea_32711_large.jpg\\\"},\\\"displayPic\\\":true},{\\\"title\\\":\\\"Kitchen\\\",\\\"name\\\":\\\"IMG_20131006_120612.jpg\\\",\\\"imagesMap\\\":{\\\"original\\\":\\\"ff808081469fd6e20146a5af948000ea_32363_original.jpg\\\",\\\"thumbnail\\\":\\\"ff808081469fd6e20146a5af948000ea_32363_thumbnail.jpg\\\",\\\"medium\\\":\\\"ff808081469fd6e20146a5af948000ea_32363_medium.jpg\\\",\\\"large\\\":\\\"ff808081469fd6e20146a5af948000ea_32363_large.jpg\\\"},\\\"displayPic\\\":false},{\\\"title\\\":\\\"Other\\\",\\\"name\\\":\\\"IMG_20131006_120853.jpg\\\",\\\"imagesMap\\\":{\\\"original\\\":\\\"ff808081469fd6e20146a5af948000ea_29724_original.jpg\\\",\\\"thumbnail\\\":\\\"ff808081469fd6e20146a5af948000ea_29724_thumbnail.jpg\\\",\\\"medium\\\":\\\"ff808081469fd6e20146a5af948000ea_29724_medium.jpg\\\",\\\"large\\\":\\\"ff808081469fd6e20146a5af948000ea_29724_large.jpg\\\"},\\\"displayPic\\\":false}]\"\n",
      "\n",
      "\n",
      "After correction and converted to json: \n",
      "\n",
      " [{'title': 'Balcony', 'name': 'IMG_20131006_120837.jpg', 'imagesMap': {'original': 'ff808081469fd6e20146a5af948000ea_65149_original.jpg', 'thumbnail': 'ff808081469fd6e20146a5af948000ea_65149_thumbnail.jpg', 'medium': 'ff808081469fd6e20146a5af948000ea_65149_medium.jpg', 'large': 'ff808081469fd6e20146a5af948000ea_65149_large.jpg'}, 'displayPic': False}, {'title': 'Bathroom', 'name': 'IMG_20131006_120734.jpg', 'imagesMap': {'original': 'ff808081469fd6e20146a5af948000ea_63511_original.jpg', 'thumbnail': 'ff808081469fd6e20146a5af948000ea_63511_thumbnail.jpg', 'medium': 'ff808081469fd6e20146a5af948000ea_63511_medium.jpg', 'large': 'ff808081469fd6e20146a5af948000ea_63511_large.jpg'}, 'displayPic': False}, {'title': 'Bedroom', 'name': 'IMG_20131006_120643.jpg', 'imagesMap': {'original': 'ff808081469fd6e20146a5af948000ea_16708_original.jpg', 'thumbnail': 'ff808081469fd6e20146a5af948000ea_16708_thumbnail.jpg', 'medium': 'ff808081469fd6e20146a5af948000ea_16708_medium.jpg', 'large': 'ff808081469fd6e20146a5af948000ea_16708_large.jpg'}, 'displayPic': False}, {'title': 'Hall', 'name': 'IMG_20131006_120745.jpg', 'imagesMap': {'original': 'ff808081469fd6e20146a5af948000ea_69828_original.jpg', 'thumbnail': 'ff808081469fd6e20146a5af948000ea_69828_thumbnail.jpg', 'medium': 'ff808081469fd6e20146a5af948000ea_69828_medium.jpg', 'large': 'ff808081469fd6e20146a5af948000ea_69828_large.jpg'}, 'displayPic': False}, {'title': 'Hall', 'name': 'IMG_20131006_120919.jpg', 'imagesMap': {'original': 'ff808081469fd6e20146a5af948000ea_32711_original.jpg', 'thumbnail': 'ff808081469fd6e20146a5af948000ea_32711_thumbnail.jpg', 'medium': 'ff808081469fd6e20146a5af948000ea_32711_medium.jpg', 'large': 'ff808081469fd6e20146a5af948000ea_32711_large.jpg'}, 'displayPic': True}, {'title': 'Kitchen', 'name': 'IMG_20131006_120612.jpg', 'imagesMap': {'original': 'ff808081469fd6e20146a5af948000ea_32363_original.jpg', 'thumbnail': 'ff808081469fd6e20146a5af948000ea_32363_thumbnail.jpg', 'medium': 'ff808081469fd6e20146a5af948000ea_32363_medium.jpg', 'large': 'ff808081469fd6e20146a5af948000ea_32363_large.jpg'}, 'displayPic': False}, {'title': 'Other', 'name': 'IMG_20131006_120853.jpg', 'imagesMap': {'original': 'ff808081469fd6e20146a5af948000ea_29724_original.jpg', 'thumbnail': 'ff808081469fd6e20146a5af948000ea_29724_thumbnail.jpg', 'medium': 'ff808081469fd6e20146a5af948000ea_29724_medium.jpg', 'large': 'ff808081469fd6e20146a5af948000ea_29724_large.jpg'}, 'displayPic': False}]\n"
     ]
    }
   ],
   "source": [
    "# Try to correct the first Json\n",
    "text_before = df2['photo_urls'][0]\n",
    "print('Before Correction: \\n\\n', text_before)\n",
    "# Try to replace corrupted values then convert to json \n",
    "text_after = text_before.replace('\\\\' , '').replace('{title','{\"title').replace(']\"' , ']').replace('],\"', ']\",\"')\n",
    "print(\"\\n\\nAfter correction and converted to json: \\n\\n\", json.loads(text_after))"
   ]
  },
  {
   "cell_type": "code",
   "execution_count": 54,
   "metadata": {},
   "outputs": [],
   "source": [
    "# Function to correct corrupted json and get count of photos\n",
    "def correction (x):\n",
    "    # if value is null put count with 0 photos\n",
    "    if x is np.nan or x == 'NaN':\n",
    "        return 0\n",
    "    else :\n",
    "        # Replace corrupted values then convert to json and get count of photos\n",
    "        return len(json.loads( x.replace('\\\\' , '').replace('{title','{\"title').replace(']\"' , ']').replace('],\"', ']\",\"') ))\n",
    "        \n",
    "# Apply Correction Function\n",
    "df2['photo_count'] = df2['photo_urls'].apply(correction)"
   ]
  },
  {
   "cell_type": "code",
   "execution_count": 55,
   "metadata": {},
   "outputs": [
    {
     "data": {
      "text/html": [
       "<div>\n",
       "<style scoped>\n",
       "    .dataframe tbody tr th:only-of-type {\n",
       "        vertical-align: middle;\n",
       "    }\n",
       "\n",
       "    .dataframe tbody tr th {\n",
       "        vertical-align: top;\n",
       "    }\n",
       "\n",
       "    .dataframe thead th {\n",
       "        text-align: right;\n",
       "    }\n",
       "</style>\n",
       "<table border=\"1\" class=\"dataframe\">\n",
       "  <thead>\n",
       "    <tr style=\"text-align: right;\">\n",
       "      <th></th>\n",
       "      <th>property_id</th>\n",
       "      <th>photo_count</th>\n",
       "    </tr>\n",
       "  </thead>\n",
       "  <tbody>\n",
       "    <tr>\n",
       "      <th>20907</th>\n",
       "      <td>ff8081815aa402ce015aa7be31480a0a</td>\n",
       "      <td>7</td>\n",
       "    </tr>\n",
       "    <tr>\n",
       "      <th>26474</th>\n",
       "      <td>ff8081815af67c48015af9a9ad4e654c</td>\n",
       "      <td>6</td>\n",
       "    </tr>\n",
       "    <tr>\n",
       "      <th>24236</th>\n",
       "      <td>ff8081815ad5e9a4015ad6afc0695c2c</td>\n",
       "      <td>0</td>\n",
       "    </tr>\n",
       "    <tr>\n",
       "      <th>9700</th>\n",
       "      <td>ff80818159fa0f0f0159fe1e5de84b1f</td>\n",
       "      <td>11</td>\n",
       "    </tr>\n",
       "    <tr>\n",
       "      <th>12315</th>\n",
       "      <td>ff8081815a21c1b1015a26a9901033a3</td>\n",
       "      <td>4</td>\n",
       "    </tr>\n",
       "  </tbody>\n",
       "</table>\n",
       "</div>"
      ],
      "text/plain": [
       "                            property_id  photo_count\n",
       "20907  ff8081815aa402ce015aa7be31480a0a            7\n",
       "26474  ff8081815af67c48015af9a9ad4e654c            6\n",
       "24236  ff8081815ad5e9a4015ad6afc0695c2c            0\n",
       "9700   ff80818159fa0f0f0159fe1e5de84b1f           11\n",
       "12315  ff8081815a21c1b1015a26a9901033a3            4"
      ]
     },
     "execution_count": 55,
     "metadata": {},
     "output_type": "execute_result"
    }
   ],
   "source": [
    "# Delete photo_urls column \n",
    "del df2['photo_urls']\n",
    "# Sample of Pics data\n",
    "df2.sample(5)"
   ]
  },
  {
   "cell_type": "markdown",
   "metadata": {},
   "source": [
    "To make more than one model and achieve the best of them, we assign more than one label here:\n",
    "\n",
    "\n",
    "1.   The number of interactions within 3 days\n",
    "2.   Interactions divided into categories within 3 days\n",
    "3.   The number of interactions within 7 days\n",
    "4.   Interactions divided into categories within 7 days"
   ]
  },
  {
   "cell_type": "markdown",
   "metadata": {},
   "source": [
    "# Number of Interaction Within 3 Days"
   ]
  },
  {
   "cell_type": "code",
   "execution_count": null,
   "metadata": {},
   "outputs": [],
   "source": []
  },
  {
   "cell_type": "code",
   "execution_count": null,
   "metadata": {},
   "outputs": [],
   "source": []
  },
  {
   "cell_type": "code",
   "execution_count": null,
   "metadata": {},
   "outputs": [],
   "source": []
  },
  {
   "cell_type": "code",
   "execution_count": null,
   "metadata": {},
   "outputs": [],
   "source": []
  },
  {
   "cell_type": "code",
   "execution_count": null,
   "metadata": {},
   "outputs": [],
   "source": []
  },
  {
   "cell_type": "code",
   "execution_count": null,
   "metadata": {},
   "outputs": [],
   "source": []
  },
  {
   "cell_type": "code",
   "execution_count": null,
   "metadata": {},
   "outputs": [],
   "source": []
  },
  {
   "cell_type": "code",
   "execution_count": null,
   "metadata": {},
   "outputs": [],
   "source": []
  },
  {
   "cell_type": "code",
   "execution_count": null,
   "metadata": {},
   "outputs": [],
   "source": []
  },
  {
   "cell_type": "code",
   "execution_count": null,
   "metadata": {},
   "outputs": [],
   "source": []
  },
  {
   "cell_type": "code",
   "execution_count": null,
   "metadata": {},
   "outputs": [],
   "source": []
  },
  {
   "cell_type": "code",
   "execution_count": null,
   "metadata": {},
   "outputs": [],
   "source": []
  },
  {
   "cell_type": "code",
   "execution_count": null,
   "metadata": {},
   "outputs": [],
   "source": []
  },
  {
   "cell_type": "code",
   "execution_count": null,
   "metadata": {},
   "outputs": [],
   "source": []
  },
  {
   "cell_type": "code",
   "execution_count": null,
   "metadata": {},
   "outputs": [],
   "source": []
  },
  {
   "cell_type": "code",
   "execution_count": null,
   "metadata": {},
   "outputs": [],
   "source": []
  },
  {
   "cell_type": "code",
   "execution_count": null,
   "metadata": {},
   "outputs": [],
   "source": []
  },
  {
   "cell_type": "code",
   "execution_count": null,
   "metadata": {},
   "outputs": [],
   "source": []
  },
  {
   "cell_type": "code",
   "execution_count": null,
   "metadata": {},
   "outputs": [],
   "source": []
  },
  {
   "cell_type": "code",
   "execution_count": null,
   "metadata": {},
   "outputs": [],
   "source": []
  },
  {
   "cell_type": "code",
   "execution_count": null,
   "metadata": {},
   "outputs": [],
   "source": []
  },
  {
   "cell_type": "code",
   "execution_count": null,
   "metadata": {},
   "outputs": [],
   "source": []
  },
  {
   "cell_type": "code",
   "execution_count": null,
   "metadata": {},
   "outputs": [],
   "source": []
  },
  {
   "cell_type": "code",
   "execution_count": null,
   "metadata": {},
   "outputs": [],
   "source": []
  },
  {
   "cell_type": "code",
   "execution_count": null,
   "metadata": {},
   "outputs": [],
   "source": []
  },
  {
   "cell_type": "code",
   "execution_count": null,
   "metadata": {},
   "outputs": [],
   "source": []
  },
  {
   "cell_type": "code",
   "execution_count": null,
   "metadata": {},
   "outputs": [],
   "source": []
  },
  {
   "cell_type": "code",
   "execution_count": null,
   "metadata": {},
   "outputs": [],
   "source": []
  },
  {
   "cell_type": "code",
   "execution_count": null,
   "metadata": {},
   "outputs": [],
   "source": []
  },
  {
   "cell_type": "code",
   "execution_count": null,
   "metadata": {},
   "outputs": [],
   "source": []
  },
  {
   "cell_type": "code",
   "execution_count": null,
   "metadata": {},
   "outputs": [],
   "source": []
  },
  {
   "cell_type": "code",
   "execution_count": null,
   "metadata": {},
   "outputs": [],
   "source": []
  },
  {
   "cell_type": "code",
   "execution_count": null,
   "metadata": {},
   "outputs": [],
   "source": []
  },
  {
   "cell_type": "code",
   "execution_count": null,
   "metadata": {},
   "outputs": [],
   "source": []
  },
  {
   "cell_type": "code",
   "execution_count": null,
   "metadata": {},
   "outputs": [],
   "source": []
  },
  {
   "cell_type": "code",
   "execution_count": null,
   "metadata": {},
   "outputs": [],
   "source": []
  },
  {
   "cell_type": "code",
   "execution_count": null,
   "metadata": {},
   "outputs": [],
   "source": []
  },
  {
   "cell_type": "code",
   "execution_count": null,
   "metadata": {},
   "outputs": [],
   "source": []
  },
  {
   "cell_type": "code",
   "execution_count": null,
   "metadata": {},
   "outputs": [],
   "source": []
  },
  {
   "cell_type": "code",
   "execution_count": null,
   "metadata": {},
   "outputs": [],
   "source": []
  }
 ],
 "metadata": {
  "kernelspec": {
   "display_name": "property",
   "language": "python",
   "name": "python3"
  },
  "language_info": {
   "codemirror_mode": {
    "name": "ipython",
    "version": 3
   },
   "file_extension": ".py",
   "mimetype": "text/x-python",
   "name": "python",
   "nbconvert_exporter": "python",
   "pygments_lexer": "ipython3",
   "version": "3.8.19"
  }
 },
 "nbformat": 4,
 "nbformat_minor": 2
}
